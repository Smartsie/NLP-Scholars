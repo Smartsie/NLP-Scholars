{
  "nbformat": 4,
  "nbformat_minor": 0,
  "metadata": {
    "colab": {
      "name": "ScienceDirectSearch - 2-Data preprocessing.ipynb",
      "provenance": [],
      "collapsed_sections": [],
      "include_colab_link": true
    },
    "kernelspec": {
      "display_name": "Python 3",
      "language": "python",
      "name": "python3"
    },
    "language_info": {
      "codemirror_mode": {
        "name": "ipython",
        "version": 3
      },
      "file_extension": ".py",
      "mimetype": "text/x-python",
      "name": "python",
      "nbconvert_exporter": "python",
      "pygments_lexer": "ipython3",
      "version": "3.6.2"
    }
  },
  "cells": [
    {
      "cell_type": "markdown",
      "metadata": {
        "id": "view-in-github",
        "colab_type": "text"
      },
      "source": [
        "<a href=\"https://colab.research.google.com/github/Smartsie/NLP-Scholars/blob/master/ScienceDirectSearch_2_Data_preprocessing.ipynb\" target=\"_parent\"><img src=\"https://colab.research.google.com/assets/colab-badge.svg\" alt=\"Open In Colab\"/></a>"
      ]
    },
    {
      "cell_type": "code",
      "metadata": {
        "id": "cc7Y9JDvIq0v"
      },
      "source": [
        "import pandas as pd\n",
        "from textblob import TextBlob\n",
        "#from google.colab import drive\n",
        "#drive.mount('/content/drive')"
      ],
      "execution_count": null,
      "outputs": []
    },
    {
      "cell_type": "code",
      "metadata": {
        "id": "gf_R_Ds4R0-A"
      },
      "source": [
        "import os\n",
        "import numpy as np\n",
        "import pandas as pd\n",
        "import matplotlib.pyplot as plt\n",
        "import seaborn as sns\n",
        "import itertools\n",
        "import collections\n",
        "import nltk\n",
        "from nltk import bigrams\n",
        "from nltk.corpus import stopwords\n",
        "import re\n",
        "\n",
        "import warnings\n",
        "import nltk\n",
        "from nltk.stem import PorterStemmer\n",
        "from nltk.tokenize import sent_tokenize, word_tokenize\n",
        "from nltk.stem import WordNetLemmatizer\n",
        "#import plotly.express as px\n",
        "\n",
        "warnings.filterwarnings(\"ignore\")\n",
        "\n",
        "sns.set(font_scale=1.5)\n",
        "sns.set_style(\"whitegrid\")"
      ],
      "execution_count": null,
      "outputs": []
    },
    {
      "cell_type": "code",
      "metadata": {
        "id": "ocRNq6w_fPkN",
        "outputId": "8a50174a-abe6-433f-9fa4-1dc19a394970",
        "colab": {
          "base_uri": "https://localhost:8080/",
          "height": 51
        }
      },
      "source": [
        "#Download stopwords\n",
        "nltk.download('stopwords')\n",
        "stop_words = set(stopwords.words('english'))"
      ],
      "execution_count": null,
      "outputs": [
        {
          "output_type": "stream",
          "text": [
            "[nltk_data] Downloading package stopwords to\n",
            "[nltk_data]     C:\\Users\\Thierry\\AppData\\Roaming\\nltk_data...\n",
            "[nltk_data]   Package stopwords is already up-to-date!\n"
          ],
          "name": "stderr"
        }
      ]
    },
    {
      "cell_type": "code",
      "metadata": {
        "id": "KE0wwkDVTJ3H"
      },
      "source": [
        "# Run Query separately"
      ],
      "execution_count": null,
      "outputs": []
    },
    {
      "cell_type": "code",
      "metadata": {
        "id": "7C4XbIMAznWv",
        "outputId": "0051b557-5112-45f1-8675-39aea1d3ba92",
        "colab": {
          "base_uri": "https://localhost:8080/",
          "height": 409
        }
      },
      "source": [
        "df=pd.read_csv('hybrid AND control AND powertrain AND filterdataset.csv')\n",
        "df=df.dropna(axis=0)"
      ],
      "execution_count": null,
      "outputs": [
        {
          "output_type": "error",
          "ename": "FileNotFoundError",
          "evalue": "ignored",
          "traceback": [
            "\u001b[0;31m---------------------------------------------------------------------------\u001b[0m",
            "\u001b[0;31mFileNotFoundError\u001b[0m                         Traceback (most recent call last)",
            "\u001b[0;32m<ipython-input-5-8639578c4c0f>\u001b[0m in \u001b[0;36m<module>\u001b[0;34m()\u001b[0m\n\u001b[0;32m----> 1\u001b[0;31m \u001b[0mdf\u001b[0m\u001b[0;34m=\u001b[0m\u001b[0mpd\u001b[0m\u001b[0;34m.\u001b[0m\u001b[0mread_csv\u001b[0m\u001b[0;34m(\u001b[0m\u001b[0;34m'hybrid AND control AND powertrain AND filterdataset.csv'\u001b[0m\u001b[0;34m)\u001b[0m\u001b[0;34m\u001b[0m\u001b[0;34m\u001b[0m\u001b[0m\n\u001b[0m\u001b[1;32m      2\u001b[0m \u001b[0mdf\u001b[0m\u001b[0;34m=\u001b[0m\u001b[0mdf\u001b[0m\u001b[0;34m.\u001b[0m\u001b[0mdropna\u001b[0m\u001b[0;34m(\u001b[0m\u001b[0maxis\u001b[0m\u001b[0;34m=\u001b[0m\u001b[0;36m0\u001b[0m\u001b[0;34m)\u001b[0m\u001b[0;34m\u001b[0m\u001b[0;34m\u001b[0m\u001b[0m\n",
            "\u001b[0;32m/usr/local/lib/python3.6/dist-packages/pandas/io/parsers.py\u001b[0m in \u001b[0;36mparser_f\u001b[0;34m(filepath_or_buffer, sep, delimiter, header, names, index_col, usecols, squeeze, prefix, mangle_dupe_cols, dtype, engine, converters, true_values, false_values, skipinitialspace, skiprows, skipfooter, nrows, na_values, keep_default_na, na_filter, verbose, skip_blank_lines, parse_dates, infer_datetime_format, keep_date_col, date_parser, dayfirst, cache_dates, iterator, chunksize, compression, thousands, decimal, lineterminator, quotechar, quoting, doublequote, escapechar, comment, encoding, dialect, error_bad_lines, warn_bad_lines, delim_whitespace, low_memory, memory_map, float_precision)\u001b[0m\n\u001b[1;32m    674\u001b[0m         )\n\u001b[1;32m    675\u001b[0m \u001b[0;34m\u001b[0m\u001b[0m\n\u001b[0;32m--> 676\u001b[0;31m         \u001b[0;32mreturn\u001b[0m \u001b[0m_read\u001b[0m\u001b[0;34m(\u001b[0m\u001b[0mfilepath_or_buffer\u001b[0m\u001b[0;34m,\u001b[0m \u001b[0mkwds\u001b[0m\u001b[0;34m)\u001b[0m\u001b[0;34m\u001b[0m\u001b[0;34m\u001b[0m\u001b[0m\n\u001b[0m\u001b[1;32m    677\u001b[0m \u001b[0;34m\u001b[0m\u001b[0m\n\u001b[1;32m    678\u001b[0m     \u001b[0mparser_f\u001b[0m\u001b[0;34m.\u001b[0m\u001b[0m__name__\u001b[0m \u001b[0;34m=\u001b[0m \u001b[0mname\u001b[0m\u001b[0;34m\u001b[0m\u001b[0;34m\u001b[0m\u001b[0m\n",
            "\u001b[0;32m/usr/local/lib/python3.6/dist-packages/pandas/io/parsers.py\u001b[0m in \u001b[0;36m_read\u001b[0;34m(filepath_or_buffer, kwds)\u001b[0m\n\u001b[1;32m    446\u001b[0m \u001b[0;34m\u001b[0m\u001b[0m\n\u001b[1;32m    447\u001b[0m     \u001b[0;31m# Create the parser.\u001b[0m\u001b[0;34m\u001b[0m\u001b[0;34m\u001b[0m\u001b[0;34m\u001b[0m\u001b[0m\n\u001b[0;32m--> 448\u001b[0;31m     \u001b[0mparser\u001b[0m \u001b[0;34m=\u001b[0m \u001b[0mTextFileReader\u001b[0m\u001b[0;34m(\u001b[0m\u001b[0mfp_or_buf\u001b[0m\u001b[0;34m,\u001b[0m \u001b[0;34m**\u001b[0m\u001b[0mkwds\u001b[0m\u001b[0;34m)\u001b[0m\u001b[0;34m\u001b[0m\u001b[0;34m\u001b[0m\u001b[0m\n\u001b[0m\u001b[1;32m    449\u001b[0m \u001b[0;34m\u001b[0m\u001b[0m\n\u001b[1;32m    450\u001b[0m     \u001b[0;32mif\u001b[0m \u001b[0mchunksize\u001b[0m \u001b[0;32mor\u001b[0m \u001b[0miterator\u001b[0m\u001b[0;34m:\u001b[0m\u001b[0;34m\u001b[0m\u001b[0;34m\u001b[0m\u001b[0m\n",
            "\u001b[0;32m/usr/local/lib/python3.6/dist-packages/pandas/io/parsers.py\u001b[0m in \u001b[0;36m__init__\u001b[0;34m(self, f, engine, **kwds)\u001b[0m\n\u001b[1;32m    878\u001b[0m             \u001b[0mself\u001b[0m\u001b[0;34m.\u001b[0m\u001b[0moptions\u001b[0m\u001b[0;34m[\u001b[0m\u001b[0;34m\"has_index_names\"\u001b[0m\u001b[0;34m]\u001b[0m \u001b[0;34m=\u001b[0m \u001b[0mkwds\u001b[0m\u001b[0;34m[\u001b[0m\u001b[0;34m\"has_index_names\"\u001b[0m\u001b[0;34m]\u001b[0m\u001b[0;34m\u001b[0m\u001b[0;34m\u001b[0m\u001b[0m\n\u001b[1;32m    879\u001b[0m \u001b[0;34m\u001b[0m\u001b[0m\n\u001b[0;32m--> 880\u001b[0;31m         \u001b[0mself\u001b[0m\u001b[0;34m.\u001b[0m\u001b[0m_make_engine\u001b[0m\u001b[0;34m(\u001b[0m\u001b[0mself\u001b[0m\u001b[0;34m.\u001b[0m\u001b[0mengine\u001b[0m\u001b[0;34m)\u001b[0m\u001b[0;34m\u001b[0m\u001b[0;34m\u001b[0m\u001b[0m\n\u001b[0m\u001b[1;32m    881\u001b[0m \u001b[0;34m\u001b[0m\u001b[0m\n\u001b[1;32m    882\u001b[0m     \u001b[0;32mdef\u001b[0m \u001b[0mclose\u001b[0m\u001b[0;34m(\u001b[0m\u001b[0mself\u001b[0m\u001b[0;34m)\u001b[0m\u001b[0;34m:\u001b[0m\u001b[0;34m\u001b[0m\u001b[0;34m\u001b[0m\u001b[0m\n",
            "\u001b[0;32m/usr/local/lib/python3.6/dist-packages/pandas/io/parsers.py\u001b[0m in \u001b[0;36m_make_engine\u001b[0;34m(self, engine)\u001b[0m\n\u001b[1;32m   1112\u001b[0m     \u001b[0;32mdef\u001b[0m \u001b[0m_make_engine\u001b[0m\u001b[0;34m(\u001b[0m\u001b[0mself\u001b[0m\u001b[0;34m,\u001b[0m \u001b[0mengine\u001b[0m\u001b[0;34m=\u001b[0m\u001b[0;34m\"c\"\u001b[0m\u001b[0;34m)\u001b[0m\u001b[0;34m:\u001b[0m\u001b[0;34m\u001b[0m\u001b[0;34m\u001b[0m\u001b[0m\n\u001b[1;32m   1113\u001b[0m         \u001b[0;32mif\u001b[0m \u001b[0mengine\u001b[0m \u001b[0;34m==\u001b[0m \u001b[0;34m\"c\"\u001b[0m\u001b[0;34m:\u001b[0m\u001b[0;34m\u001b[0m\u001b[0;34m\u001b[0m\u001b[0m\n\u001b[0;32m-> 1114\u001b[0;31m             \u001b[0mself\u001b[0m\u001b[0;34m.\u001b[0m\u001b[0m_engine\u001b[0m \u001b[0;34m=\u001b[0m \u001b[0mCParserWrapper\u001b[0m\u001b[0;34m(\u001b[0m\u001b[0mself\u001b[0m\u001b[0;34m.\u001b[0m\u001b[0mf\u001b[0m\u001b[0;34m,\u001b[0m \u001b[0;34m**\u001b[0m\u001b[0mself\u001b[0m\u001b[0;34m.\u001b[0m\u001b[0moptions\u001b[0m\u001b[0;34m)\u001b[0m\u001b[0;34m\u001b[0m\u001b[0;34m\u001b[0m\u001b[0m\n\u001b[0m\u001b[1;32m   1115\u001b[0m         \u001b[0;32melse\u001b[0m\u001b[0;34m:\u001b[0m\u001b[0;34m\u001b[0m\u001b[0;34m\u001b[0m\u001b[0m\n\u001b[1;32m   1116\u001b[0m             \u001b[0;32mif\u001b[0m \u001b[0mengine\u001b[0m \u001b[0;34m==\u001b[0m \u001b[0;34m\"python\"\u001b[0m\u001b[0;34m:\u001b[0m\u001b[0;34m\u001b[0m\u001b[0;34m\u001b[0m\u001b[0m\n",
            "\u001b[0;32m/usr/local/lib/python3.6/dist-packages/pandas/io/parsers.py\u001b[0m in \u001b[0;36m__init__\u001b[0;34m(self, src, **kwds)\u001b[0m\n\u001b[1;32m   1889\u001b[0m         \u001b[0mkwds\u001b[0m\u001b[0;34m[\u001b[0m\u001b[0;34m\"usecols\"\u001b[0m\u001b[0;34m]\u001b[0m \u001b[0;34m=\u001b[0m \u001b[0mself\u001b[0m\u001b[0;34m.\u001b[0m\u001b[0musecols\u001b[0m\u001b[0;34m\u001b[0m\u001b[0;34m\u001b[0m\u001b[0m\n\u001b[1;32m   1890\u001b[0m \u001b[0;34m\u001b[0m\u001b[0m\n\u001b[0;32m-> 1891\u001b[0;31m         \u001b[0mself\u001b[0m\u001b[0;34m.\u001b[0m\u001b[0m_reader\u001b[0m \u001b[0;34m=\u001b[0m \u001b[0mparsers\u001b[0m\u001b[0;34m.\u001b[0m\u001b[0mTextReader\u001b[0m\u001b[0;34m(\u001b[0m\u001b[0msrc\u001b[0m\u001b[0;34m,\u001b[0m \u001b[0;34m**\u001b[0m\u001b[0mkwds\u001b[0m\u001b[0;34m)\u001b[0m\u001b[0;34m\u001b[0m\u001b[0;34m\u001b[0m\u001b[0m\n\u001b[0m\u001b[1;32m   1892\u001b[0m         \u001b[0mself\u001b[0m\u001b[0;34m.\u001b[0m\u001b[0munnamed_cols\u001b[0m \u001b[0;34m=\u001b[0m \u001b[0mself\u001b[0m\u001b[0;34m.\u001b[0m\u001b[0m_reader\u001b[0m\u001b[0;34m.\u001b[0m\u001b[0munnamed_cols\u001b[0m\u001b[0;34m\u001b[0m\u001b[0;34m\u001b[0m\u001b[0m\n\u001b[1;32m   1893\u001b[0m \u001b[0;34m\u001b[0m\u001b[0m\n",
            "\u001b[0;32mpandas/_libs/parsers.pyx\u001b[0m in \u001b[0;36mpandas._libs.parsers.TextReader.__cinit__\u001b[0;34m()\u001b[0m\n",
            "\u001b[0;32mpandas/_libs/parsers.pyx\u001b[0m in \u001b[0;36mpandas._libs.parsers.TextReader._setup_parser_source\u001b[0;34m()\u001b[0m\n",
            "\u001b[0;31mFileNotFoundError\u001b[0m: [Errno 2] File hybrid AND control AND powertrain AND filterdataset.csv does not exist: 'hybrid AND control AND powertrain AND filterdataset.csv'"
          ]
        }
      ]
    },
    {
      "cell_type": "code",
      "metadata": {
        "id": "7HZLViNgTJ3K",
        "outputId": "a5fc2fb6-41cc-442e-b446-8c3bbdc9e873"
      },
      "source": [
        "df.head()"
      ],
      "execution_count": null,
      "outputs": [
        {
          "output_type": "execute_result",
          "data": {
            "text/html": [
              "<div>\n",
              "<style scoped>\n",
              "    .dataframe tbody tr th:only-of-type {\n",
              "        vertical-align: middle;\n",
              "    }\n",
              "\n",
              "    .dataframe tbody tr th {\n",
              "        vertical-align: top;\n",
              "    }\n",
              "\n",
              "    .dataframe thead th {\n",
              "        text-align: right;\n",
              "    }\n",
              "</style>\n",
              "<table border=\"1\" class=\"dataframe\">\n",
              "  <thead>\n",
              "    <tr style=\"text-align: right;\">\n",
              "      <th></th>\n",
              "      <th>Unnamed: 0</th>\n",
              "      <th>@_fa</th>\n",
              "      <th>dc:identifier</th>\n",
              "      <th>dc:title</th>\n",
              "      <th>link</th>\n",
              "      <th>load-date</th>\n",
              "      <th>openaccess</th>\n",
              "      <th>pii</th>\n",
              "      <th>prism:coverDate</th>\n",
              "      <th>prism:doi</th>\n",
              "      <th>prism:publicationName</th>\n",
              "      <th>prism:url</th>\n",
              "      <th>Relevant</th>\n",
              "      <th>Abstract</th>\n",
              "    </tr>\n",
              "  </thead>\n",
              "  <tbody>\n",
              "    <tr>\n",
              "      <th>0</th>\n",
              "      <td>0</td>\n",
              "      <td>True</td>\n",
              "      <td>DOI:10.1016/j.energy.2020.118286</td>\n",
              "      <td>Comparison of four-wheel-drive hybrid powertra...</td>\n",
              "      <td>{'self': 'https://api.elsevier.com/content/art...</td>\n",
              "      <td>2020-07-23T00:00:00.000Z</td>\n",
              "      <td>False</td>\n",
              "      <td>S0360544220313931</td>\n",
              "      <td>2020-10-15</td>\n",
              "      <td>10.1016/j.energy.2020.118286</td>\n",
              "      <td>Energy</td>\n",
              "      <td>https://api.elsevier.com/content/article/pii/S...</td>\n",
              "      <td>2</td>\n",
              "      <td>\\n                  The stringent fuel economy...</td>\n",
              "    </tr>\n",
              "    <tr>\n",
              "      <th>1</th>\n",
              "      <td>1</td>\n",
              "      <td>True</td>\n",
              "      <td>DOI:10.1016/j.jclepro.2020.120711</td>\n",
              "      <td>Representation, generation, and optimization m...</td>\n",
              "      <td>{'self': 'https://api.elsevier.com/content/art...</td>\n",
              "      <td>2020-02-26T00:00:00.000Z</td>\n",
              "      <td>False</td>\n",
              "      <td>S0959652620307587</td>\n",
              "      <td>2020-05-20</td>\n",
              "      <td>10.1016/j.jclepro.2020.120711</td>\n",
              "      <td>Journal of Cleaner Production</td>\n",
              "      <td>https://api.elsevier.com/content/article/pii/S...</td>\n",
              "      <td>2</td>\n",
              "      <td>\\n                  Since the first commercial...</td>\n",
              "    </tr>\n",
              "    <tr>\n",
              "      <th>2</th>\n",
              "      <td>2</td>\n",
              "      <td>True</td>\n",
              "      <td>DOI:10.1016/j.apenergy.2020.114873</td>\n",
              "      <td>Optimal control of power-split hybrid electric...</td>\n",
              "      <td>{'self': 'https://api.elsevier.com/content/art...</td>\n",
              "      <td>2020-03-30T00:00:00.000Z</td>\n",
              "      <td>False</td>\n",
              "      <td>S0306261920303858</td>\n",
              "      <td>2020-05-15</td>\n",
              "      <td>10.1016/j.apenergy.2020.114873</td>\n",
              "      <td>Applied Energy</td>\n",
              "      <td>https://api.elsevier.com/content/article/pii/S...</td>\n",
              "      <td>3</td>\n",
              "      <td>\\n                  This paper presents a real...</td>\n",
              "    </tr>\n",
              "    <tr>\n",
              "      <th>3</th>\n",
              "      <td>3</td>\n",
              "      <td>True</td>\n",
              "      <td>DOI:10.1016/j.apenergy.2020.114553</td>\n",
              "      <td>A survey of powertrain configuration studies o...</td>\n",
              "      <td>{'self': 'https://api.elsevier.com/content/art...</td>\n",
              "      <td>2020-02-15T00:00:00.000Z</td>\n",
              "      <td>False</td>\n",
              "      <td>S0306261920300659</td>\n",
              "      <td>2020-03-15</td>\n",
              "      <td>10.1016/j.apenergy.2020.114553</td>\n",
              "      <td>Applied Energy</td>\n",
              "      <td>https://api.elsevier.com/content/article/pii/S...</td>\n",
              "      <td>2</td>\n",
              "      <td>\\n                  Global warming, air pollut...</td>\n",
              "    </tr>\n",
              "    <tr>\n",
              "      <th>4</th>\n",
              "      <td>4</td>\n",
              "      <td>True</td>\n",
              "      <td>DOI:10.1016/j.mechmachtheory.2019.103731</td>\n",
              "      <td>Synthesis and analysis method for powertrain c...</td>\n",
              "      <td>{'self': 'https://api.elsevier.com/content/art...</td>\n",
              "      <td>2019-12-20T00:00:00.000Z</td>\n",
              "      <td>False</td>\n",
              "      <td>S0094114X19323377</td>\n",
              "      <td>2020-04-30</td>\n",
              "      <td>10.1016/j.mechmachtheory.2019.103731</td>\n",
              "      <td>Mechanism and Machine Theory</td>\n",
              "      <td>https://api.elsevier.com/content/article/pii/S...</td>\n",
              "      <td>2</td>\n",
              "      <td>\\n                  Existing hybrid powertrain...</td>\n",
              "    </tr>\n",
              "  </tbody>\n",
              "</table>\n",
              "</div>"
            ],
            "text/plain": [
              "   Unnamed: 0  @_fa                             dc:identifier  \\\n",
              "0           0  True          DOI:10.1016/j.energy.2020.118286   \n",
              "1           1  True         DOI:10.1016/j.jclepro.2020.120711   \n",
              "2           2  True        DOI:10.1016/j.apenergy.2020.114873   \n",
              "3           3  True        DOI:10.1016/j.apenergy.2020.114553   \n",
              "4           4  True  DOI:10.1016/j.mechmachtheory.2019.103731   \n",
              "\n",
              "                                            dc:title  \\\n",
              "0  Comparison of four-wheel-drive hybrid powertra...   \n",
              "1  Representation, generation, and optimization m...   \n",
              "2  Optimal control of power-split hybrid electric...   \n",
              "3  A survey of powertrain configuration studies o...   \n",
              "4  Synthesis and analysis method for powertrain c...   \n",
              "\n",
              "                                                link  \\\n",
              "0  {'self': 'https://api.elsevier.com/content/art...   \n",
              "1  {'self': 'https://api.elsevier.com/content/art...   \n",
              "2  {'self': 'https://api.elsevier.com/content/art...   \n",
              "3  {'self': 'https://api.elsevier.com/content/art...   \n",
              "4  {'self': 'https://api.elsevier.com/content/art...   \n",
              "\n",
              "                  load-date  openaccess                pii prism:coverDate  \\\n",
              "0  2020-07-23T00:00:00.000Z       False  S0360544220313931      2020-10-15   \n",
              "1  2020-02-26T00:00:00.000Z       False  S0959652620307587      2020-05-20   \n",
              "2  2020-03-30T00:00:00.000Z       False  S0306261920303858      2020-05-15   \n",
              "3  2020-02-15T00:00:00.000Z       False  S0306261920300659      2020-03-15   \n",
              "4  2019-12-20T00:00:00.000Z       False  S0094114X19323377      2020-04-30   \n",
              "\n",
              "                              prism:doi          prism:publicationName  \\\n",
              "0          10.1016/j.energy.2020.118286                         Energy   \n",
              "1         10.1016/j.jclepro.2020.120711  Journal of Cleaner Production   \n",
              "2        10.1016/j.apenergy.2020.114873                 Applied Energy   \n",
              "3        10.1016/j.apenergy.2020.114553                 Applied Energy   \n",
              "4  10.1016/j.mechmachtheory.2019.103731   Mechanism and Machine Theory   \n",
              "\n",
              "                                           prism:url  Relevant  \\\n",
              "0  https://api.elsevier.com/content/article/pii/S...         2   \n",
              "1  https://api.elsevier.com/content/article/pii/S...         2   \n",
              "2  https://api.elsevier.com/content/article/pii/S...         3   \n",
              "3  https://api.elsevier.com/content/article/pii/S...         2   \n",
              "4  https://api.elsevier.com/content/article/pii/S...         2   \n",
              "\n",
              "                                            Abstract  \n",
              "0  \\n                  The stringent fuel economy...  \n",
              "1  \\n                  Since the first commercial...  \n",
              "2  \\n                  This paper presents a real...  \n",
              "3  \\n                  Global warming, air pollut...  \n",
              "4  \\n                  Existing hybrid powertrain...  "
            ]
          },
          "metadata": {
            "tags": []
          },
          "execution_count": 7
        }
      ]
    },
    {
      "cell_type": "code",
      "metadata": {
        "id": "2NLcpUdJTJ3M",
        "outputId": "abbeb71f-9cb6-4b56-f922-6e93141478ce"
      },
      "source": [
        "df.columns"
      ],
      "execution_count": null,
      "outputs": [
        {
          "output_type": "execute_result",
          "data": {
            "text/plain": [
              "Index(['Unnamed: 0', '@_fa', 'dc:identifier', 'dc:title', 'link', 'load-date',\n",
              "       'openaccess', 'pii', 'prism:coverDate', 'prism:doi',\n",
              "       'prism:publicationName', 'prism:url', 'Relevant', 'Abstract'],\n",
              "      dtype='object')"
            ]
          },
          "metadata": {
            "tags": []
          },
          "execution_count": 8
        }
      ]
    },
    {
      "cell_type": "markdown",
      "metadata": {
        "id": "K2t-k7lfTJ3P"
      },
      "source": [
        "Data is a tabular data with journal name, link to the publication, date of publication, author and abstract"
      ]
    },
    {
      "cell_type": "code",
      "metadata": {
        "id": "Z-vkIndvTJ3P"
      },
      "source": [
        "# Define stemmer é lemmatizer\n",
        "porter=PorterStemmer()\n",
        "wordnet_lemmatizer = WordNetLemmatizer()"
      ],
      "execution_count": null,
      "outputs": []
    },
    {
      "cell_type": "code",
      "metadata": {
        "id": "wVpBudyITJ3R"
      },
      "source": [
        "def stemSentence(sentence,lem=False):\n",
        "    token_words=word_tokenize(sentence.lower())\n",
        "    stem_sentence=[]\n",
        "    lem_sentence=[]\n",
        "    for word in token_words:\n",
        "        if word not in stop_words:\n",
        "            if lem==False:\n",
        "                stem_sentence.append(porter.stem(word)+' ')\n",
        "            else:\n",
        "                stem_sentence.append(wordnet_lemmatizer.lemmatize(word)+' ')\n",
        "    return \"\".join(stem_sentence)"
      ],
      "execution_count": null,
      "outputs": []
    },
    {
      "cell_type": "markdown",
      "metadata": {
        "id": "zInmG6ZjTJ3T"
      },
      "source": [
        "![image.png](attachment:image.png)"
      ]
    },
    {
      "cell_type": "code",
      "metadata": {
        "id": "Rr5j7yyCTJ3T"
      },
      "source": [
        "# Strip the 58 first blank characters and remove annoying characters coming from ScienceDirect: @, \\u202f, \\n\n",
        "#start=59 \n",
        "start=30# actualy it depends on the source\n",
        "\n",
        "df[\"Clean text\"]=df[\"Abstract\"].str.slice(start=59).replace('@','').replace('\\u202f','').replace('\\n','')\n",
        "# Prepare container for Lemmetized or Stemmed data\n",
        "df[\"Lem data\"]=\"-\""
      ],
      "execution_count": null,
      "outputs": []
    },
    {
      "cell_type": "code",
      "metadata": {
        "id": "JvToyR9fTJ3V",
        "scrolled": true,
        "outputId": "e61618d6-fc58-426c-de21-129438fb0e1c"
      },
      "source": [
        "# Apply Stemmer to the dataframe\n",
        "# save it under this name:\n",
        "filename='Hybrid PT Control.csv'\n",
        "for i in range(0,len(df)):\n",
        "    df[\"Lem data\"].iloc[i]=stemSentence(df['Clean text'].iloc[i],True)\n",
        "    if i%100==0:\n",
        "        df.to_csv(filename)\n",
        "        print(i)\n",
        "df.to_csv(filename)"
      ],
      "execution_count": null,
      "outputs": [
        {
          "output_type": "stream",
          "text": [
            "0\n",
            "100\n",
            "200\n",
            "300\n",
            "400\n",
            "500\n",
            "600\n",
            "700\n",
            "800\n",
            "900\n"
          ],
          "name": "stdout"
        }
      ]
    },
    {
      "cell_type": "code",
      "metadata": {
        "id": "-T9JYFrOTJ3X"
      },
      "source": [
        "df.to_csv(filename)"
      ],
      "execution_count": null,
      "outputs": []
    },
    {
      "cell_type": "code",
      "metadata": {
        "id": "jcJdUM2qTJ3Z",
        "outputId": "d56f442e-2195-4cfa-9f82-4e3c6163ba2e"
      },
      "source": [
        "df.head()"
      ],
      "execution_count": null,
      "outputs": [
        {
          "output_type": "execute_result",
          "data": {
            "text/html": [
              "<div>\n",
              "<style scoped>\n",
              "    .dataframe tbody tr th:only-of-type {\n",
              "        vertical-align: middle;\n",
              "    }\n",
              "\n",
              "    .dataframe tbody tr th {\n",
              "        vertical-align: top;\n",
              "    }\n",
              "\n",
              "    .dataframe thead th {\n",
              "        text-align: right;\n",
              "    }\n",
              "</style>\n",
              "<table border=\"1\" class=\"dataframe\">\n",
              "  <thead>\n",
              "    <tr style=\"text-align: right;\">\n",
              "      <th></th>\n",
              "      <th>Unnamed: 0</th>\n",
              "      <th>@_fa</th>\n",
              "      <th>dc:identifier</th>\n",
              "      <th>dc:title</th>\n",
              "      <th>link</th>\n",
              "      <th>load-date</th>\n",
              "      <th>openaccess</th>\n",
              "      <th>pii</th>\n",
              "      <th>prism:coverDate</th>\n",
              "      <th>prism:doi</th>\n",
              "      <th>prism:publicationName</th>\n",
              "      <th>prism:url</th>\n",
              "      <th>Relevant</th>\n",
              "      <th>Abstract</th>\n",
              "      <th>Clean text</th>\n",
              "      <th>Lem data</th>\n",
              "    </tr>\n",
              "  </thead>\n",
              "  <tbody>\n",
              "    <tr>\n",
              "      <th>0</th>\n",
              "      <td>0</td>\n",
              "      <td>True</td>\n",
              "      <td>DOI:10.1016/j.ifacol.2019.12.624</td>\n",
              "      <td>PQ Theory-Based Control of Single-Stage V2G Th...</td>\n",
              "      <td>{'self': 'https://api.elsevier.com/content/art...</td>\n",
              "      <td>2020-01-15T00:00:00.000Z</td>\n",
              "      <td>False</td>\n",
              "      <td>S2405896319325674</td>\n",
              "      <td>2019-12-31</td>\n",
              "      <td>10.1016/j.ifacol.2019.12.624</td>\n",
              "      <td>IFAC-PapersOnLine</td>\n",
              "      <td>https://api.elsevier.com/content/article/pii/S...</td>\n",
              "      <td>1</td>\n",
              "      <td>\\n                  This work dealt with a mod...</td>\n",
              "      <td>theory-based control of a vehicle-to-grid (V2...</td>\n",
              "      <td>theory-based control vehicle-to-grid ( v2g ) t...</td>\n",
              "    </tr>\n",
              "    <tr>\n",
              "      <th>1</th>\n",
              "      <td>1</td>\n",
              "      <td>True</td>\n",
              "      <td>DOI:10.1016/j.apenergy.2019.114262</td>\n",
              "      <td>Two-stage stochastic sizing and packetized ene...</td>\n",
              "      <td>{'self': 'https://api.elsevier.com/content/art...</td>\n",
              "      <td>2019-12-11T00:00:00.000Z</td>\n",
              "      <td>False</td>\n",
              "      <td>S030626191931949X</td>\n",
              "      <td>2020-02-15</td>\n",
              "      <td>10.1016/j.apenergy.2019.114262</td>\n",
              "      <td>Applied Energy</td>\n",
              "      <td>https://api.elsevier.com/content/article/pii/S...</td>\n",
              "      <td>1</td>\n",
              "      <td>\\n                  The expected deployment of...</td>\n",
              "      <td>ric vehicles (BEVs) strongly depends on the de...</td>\n",
              "      <td>ric vehicle ( bevs ) strongly depends developm...</td>\n",
              "    </tr>\n",
              "    <tr>\n",
              "      <th>2</th>\n",
              "      <td>2</td>\n",
              "      <td>True</td>\n",
              "      <td>DOI:10.1016/j.ifacol.2019.12.738</td>\n",
              "      <td>BEV Remaining Range Estimation Based on Modern...</td>\n",
              "      <td>{'self': 'https://api.elsevier.com/content/art...</td>\n",
              "      <td>2020-01-15T00:00:00.000Z</td>\n",
              "      <td>False</td>\n",
              "      <td>S2405896319326874</td>\n",
              "      <td>2019-12-31</td>\n",
              "      <td>10.1016/j.ifacol.2019.12.738</td>\n",
              "      <td>IFAC-PapersOnLine</td>\n",
              "      <td>https://api.elsevier.com/content/article/pii/S...</td>\n",
              "      <td>1</td>\n",
              "      <td>\\n                  The aim of this paper is t...</td>\n",
              "      <td>nature of algorithms for calculation of the ra...</td>\n",
              "      <td>nature algorithm calculation range battery ele...</td>\n",
              "    </tr>\n",
              "    <tr>\n",
              "      <th>3</th>\n",
              "      <td>3</td>\n",
              "      <td>True</td>\n",
              "      <td>DOI:10.1016/j.apenergy.2018.04.073</td>\n",
              "      <td>Effects of charging battery electric vehicles ...</td>\n",
              "      <td>{'self': 'https://api.elsevier.com/content/art...</td>\n",
              "      <td>2018-05-11T00:00:00.000Z</td>\n",
              "      <td>False</td>\n",
              "      <td>S0306261918306330</td>\n",
              "      <td>2018-08-15</td>\n",
              "      <td>10.1016/j.apenergy.2018.04.073</td>\n",
              "      <td>Applied Energy</td>\n",
              "      <td>https://api.elsevier.com/content/article/pii/S...</td>\n",
              "      <td>2</td>\n",
              "      <td>\\n                  Integration of battery ele...</td>\n",
              "      <td>(BEV) as load could have an impact on the sta...</td>\n",
              "      <td>( bev ) load could impact stability local grid...</td>\n",
              "    </tr>\n",
              "    <tr>\n",
              "      <th>4</th>\n",
              "      <td>4</td>\n",
              "      <td>True</td>\n",
              "      <td>DOI:10.1016/j.trc.2019.12.021</td>\n",
              "      <td>Multi-day scenario analysis for battery electr...</td>\n",
              "      <td>{'self': 'https://api.elsevier.com/content/art...</td>\n",
              "      <td>2020-01-09T00:00:00.000Z</td>\n",
              "      <td>False</td>\n",
              "      <td>S0968090X18312117</td>\n",
              "      <td>2020-02-29</td>\n",
              "      <td>10.1016/j.trc.2019.12.021</td>\n",
              "      <td>Transportation Research Part C: Emerging Techn...</td>\n",
              "      <td>https://api.elsevier.com/content/article/pii/S...</td>\n",
              "      <td>1</td>\n",
              "      <td>\\n                  Multi-day activity-travel ...</td>\n",
              "      <td>create potential vehicle usage profiles that c...</td>\n",
              "      <td>create potential vehicle usage profile contain...</td>\n",
              "    </tr>\n",
              "  </tbody>\n",
              "</table>\n",
              "</div>"
            ],
            "text/plain": [
              "   Unnamed: 0  @_fa                       dc:identifier  \\\n",
              "0           0  True    DOI:10.1016/j.ifacol.2019.12.624   \n",
              "1           1  True  DOI:10.1016/j.apenergy.2019.114262   \n",
              "2           2  True    DOI:10.1016/j.ifacol.2019.12.738   \n",
              "3           3  True  DOI:10.1016/j.apenergy.2018.04.073   \n",
              "4           4  True       DOI:10.1016/j.trc.2019.12.021   \n",
              "\n",
              "                                            dc:title  \\\n",
              "0  PQ Theory-Based Control of Single-Stage V2G Th...   \n",
              "1  Two-stage stochastic sizing and packetized ene...   \n",
              "2  BEV Remaining Range Estimation Based on Modern...   \n",
              "3  Effects of charging battery electric vehicles ...   \n",
              "4  Multi-day scenario analysis for battery electr...   \n",
              "\n",
              "                                                link  \\\n",
              "0  {'self': 'https://api.elsevier.com/content/art...   \n",
              "1  {'self': 'https://api.elsevier.com/content/art...   \n",
              "2  {'self': 'https://api.elsevier.com/content/art...   \n",
              "3  {'self': 'https://api.elsevier.com/content/art...   \n",
              "4  {'self': 'https://api.elsevier.com/content/art...   \n",
              "\n",
              "                  load-date  openaccess                pii prism:coverDate  \\\n",
              "0  2020-01-15T00:00:00.000Z       False  S2405896319325674      2019-12-31   \n",
              "1  2019-12-11T00:00:00.000Z       False  S030626191931949X      2020-02-15   \n",
              "2  2020-01-15T00:00:00.000Z       False  S2405896319326874      2019-12-31   \n",
              "3  2018-05-11T00:00:00.000Z       False  S0306261918306330      2018-08-15   \n",
              "4  2020-01-09T00:00:00.000Z       False  S0968090X18312117      2020-02-29   \n",
              "\n",
              "                        prism:doi  \\\n",
              "0    10.1016/j.ifacol.2019.12.624   \n",
              "1  10.1016/j.apenergy.2019.114262   \n",
              "2    10.1016/j.ifacol.2019.12.738   \n",
              "3  10.1016/j.apenergy.2018.04.073   \n",
              "4       10.1016/j.trc.2019.12.021   \n",
              "\n",
              "                               prism:publicationName  \\\n",
              "0                                  IFAC-PapersOnLine   \n",
              "1                                     Applied Energy   \n",
              "2                                  IFAC-PapersOnLine   \n",
              "3                                     Applied Energy   \n",
              "4  Transportation Research Part C: Emerging Techn...   \n",
              "\n",
              "                                           prism:url  Relevant  \\\n",
              "0  https://api.elsevier.com/content/article/pii/S...         1   \n",
              "1  https://api.elsevier.com/content/article/pii/S...         1   \n",
              "2  https://api.elsevier.com/content/article/pii/S...         1   \n",
              "3  https://api.elsevier.com/content/article/pii/S...         2   \n",
              "4  https://api.elsevier.com/content/article/pii/S...         1   \n",
              "\n",
              "                                            Abstract  \\\n",
              "0  \\n                  This work dealt with a mod...   \n",
              "1  \\n                  The expected deployment of...   \n",
              "2  \\n                  The aim of this paper is t...   \n",
              "3  \\n                  Integration of battery ele...   \n",
              "4  \\n                  Multi-day activity-travel ...   \n",
              "\n",
              "                                          Clean text  \\\n",
              "0   theory-based control of a vehicle-to-grid (V2...   \n",
              "1  ric vehicles (BEVs) strongly depends on the de...   \n",
              "2  nature of algorithms for calculation of the ra...   \n",
              "3   (BEV) as load could have an impact on the sta...   \n",
              "4  create potential vehicle usage profiles that c...   \n",
              "\n",
              "                                            Lem data  \n",
              "0  theory-based control vehicle-to-grid ( v2g ) t...  \n",
              "1  ric vehicle ( bevs ) strongly depends developm...  \n",
              "2  nature algorithm calculation range battery ele...  \n",
              "3  ( bev ) load could impact stability local grid...  \n",
              "4  create potential vehicle usage profile contain...  "
            ]
          },
          "metadata": {
            "tags": []
          },
          "execution_count": 229
        }
      ]
    }
  ]
}