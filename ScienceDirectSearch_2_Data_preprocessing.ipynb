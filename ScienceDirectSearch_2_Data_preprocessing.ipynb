{
 "cells": [
  {
   "cell_type": "markdown",
   "metadata": {
    "colab_type": "text",
    "id": "view-in-github"
   },
   "source": [
    "<a href=\"https://colab.research.google.com/github/Smartsie/NLP-Scholars/blob/master/ScienceDirectSearch_2_Data_preprocessing.ipynb\" target=\"_parent\"><img src=\"https://colab.research.google.com/assets/colab-badge.svg\" alt=\"Open In Colab\"/></a>"
   ]
  },
  {
   "cell_type": "code",
   "execution_count": 5,
   "metadata": {
    "id": "cc7Y9JDvIq0v"
   },
   "outputs": [],
   "source": [
    "import pandas as pd\n",
    "#from textblob import TextBlob\n",
    "#from google.colab import drive\n",
    "#drive.mount('/content/drive')"
   ]
  },
  {
   "cell_type": "code",
   "execution_count": 24,
   "metadata": {},
   "outputs": [
    {
     "name": "stderr",
     "output_type": "stream",
     "text": [
      "2020-10-04 21:42:20,504 [MainThread  ] [INFO ]  Retrieving http://search.maven.org/remotecontent?filepath=org/apache/tika/tika-server/1.24/tika-server-1.24.jar to C:\\Users\\Thierry\\AppData\\Local\\Temp\\tika-server.jar.\n",
      "2020-10-04 21:42:52,699 [MainThread  ] [INFO ]  Retrieving http://search.maven.org/remotecontent?filepath=org/apache/tika/tika-server/1.24/tika-server-1.24.jar.md5 to C:\\Users\\Thierry\\AppData\\Local\\Temp\\tika-server.jar.md5.\n",
      "2020-10-04 21:42:53,407 [MainThread  ] [WARNI]  Failed to see startup log message; retrying...\n"
     ]
    }
   ],
   "source": []
  },
  {
   "cell_type": "code",
   "execution_count": 26,
   "metadata": {},
   "outputs": [],
   "source": [
    "# If we want to analyze a PDF\n",
    "from tika import parser\n",
    "parsedPDF = parser.from_file(\"37.pdf\")\n",
    "text=parsedPDF[\"content\"]\n",
    "text=text.replace('\\n','')\n",
    "text=text.replace('-','')"
   ]
  },
  {
   "cell_type": "code",
   "execution_count": 28,
   "metadata": {},
   "outputs": [],
   "source": []
  },
  {
   "cell_type": "code",
   "execution_count": 33,
   "metadata": {
    "id": "gf_R_Ds4R0-A"
   },
   "outputs": [],
   "source": [
    "import os\n",
    "import numpy as np\n",
    "import pandas as pd\n",
    "import matplotlib.pyplot as plt\n",
    "#import seaborn as sns\n",
    "import itertools\n",
    "import collections\n",
    "import nltk\n",
    "from nltk import bigrams\n",
    "from nltk.corpus import stopwords\n",
    "import re\n",
    "\n",
    "import warnings\n",
    "import nltk\n",
    "from nltk.stem import PorterStemmer\n",
    "from nltk.tokenize import sent_tokenize, word_tokenize\n",
    "from nltk.stem import WordNetLemmatizer\n",
    "#import plotly.express as px\n",
    "\n",
    "warnings.filterwarnings(\"ignore\")\n",
    "\n",
    "#sns.set(font_scale=1.5)\n",
    "#sns.set_style(\"whitegrid\")"
   ]
  },
  {
   "cell_type": "code",
   "execution_count": 34,
   "metadata": {
    "colab": {
     "base_uri": "https://localhost:8080/",
     "height": 51
    },
    "id": "ocRNq6w_fPkN",
    "outputId": "8a50174a-abe6-433f-9fa4-1dc19a394970"
   },
   "outputs": [
    {
     "name": "stderr",
     "output_type": "stream",
     "text": [
      "[nltk_data] Downloading package stopwords to\n",
      "[nltk_data]     C:\\Users\\Thierry\\AppData\\Roaming\\nltk_data...\n",
      "[nltk_data]   Package stopwords is already up-to-date!\n"
     ]
    }
   ],
   "source": [
    "#Download stopwords\n",
    "nltk.download('stopwords')\n",
    "stop_words = set(stopwords.words('english'))"
   ]
  },
  {
   "cell_type": "code",
   "execution_count": null,
   "metadata": {
    "id": "KE0wwkDVTJ3H"
   },
   "outputs": [],
   "source": [
    "# Run Query separately"
   ]
  },
  {
   "cell_type": "code",
   "execution_count": null,
   "metadata": {
    "colab": {
     "base_uri": "https://localhost:8080/",
     "height": 409
    },
    "id": "7C4XbIMAznWv",
    "outputId": "0051b557-5112-45f1-8675-39aea1d3ba92"
   },
   "outputs": [
    {
     "ename": "FileNotFoundError",
     "evalue": "ignored",
     "output_type": "error",
     "traceback": [
      "\u001b[0;31m---------------------------------------------------------------------------\u001b[0m",
      "\u001b[0;31mFileNotFoundError\u001b[0m                         Traceback (most recent call last)",
      "\u001b[0;32m<ipython-input-5-8639578c4c0f>\u001b[0m in \u001b[0;36m<module>\u001b[0;34m()\u001b[0m\n\u001b[0;32m----> 1\u001b[0;31m \u001b[0mdf\u001b[0m\u001b[0;34m=\u001b[0m\u001b[0mpd\u001b[0m\u001b[0;34m.\u001b[0m\u001b[0mread_csv\u001b[0m\u001b[0;34m(\u001b[0m\u001b[0;34m'hybrid AND control AND powertrain AND filterdataset.csv'\u001b[0m\u001b[0;34m)\u001b[0m\u001b[0;34m\u001b[0m\u001b[0;34m\u001b[0m\u001b[0m\n\u001b[0m\u001b[1;32m      2\u001b[0m \u001b[0mdf\u001b[0m\u001b[0;34m=\u001b[0m\u001b[0mdf\u001b[0m\u001b[0;34m.\u001b[0m\u001b[0mdropna\u001b[0m\u001b[0;34m(\u001b[0m\u001b[0maxis\u001b[0m\u001b[0;34m=\u001b[0m\u001b[0;36m0\u001b[0m\u001b[0;34m)\u001b[0m\u001b[0;34m\u001b[0m\u001b[0;34m\u001b[0m\u001b[0m\n",
      "\u001b[0;32m/usr/local/lib/python3.6/dist-packages/pandas/io/parsers.py\u001b[0m in \u001b[0;36mparser_f\u001b[0;34m(filepath_or_buffer, sep, delimiter, header, names, index_col, usecols, squeeze, prefix, mangle_dupe_cols, dtype, engine, converters, true_values, false_values, skipinitialspace, skiprows, skipfooter, nrows, na_values, keep_default_na, na_filter, verbose, skip_blank_lines, parse_dates, infer_datetime_format, keep_date_col, date_parser, dayfirst, cache_dates, iterator, chunksize, compression, thousands, decimal, lineterminator, quotechar, quoting, doublequote, escapechar, comment, encoding, dialect, error_bad_lines, warn_bad_lines, delim_whitespace, low_memory, memory_map, float_precision)\u001b[0m\n\u001b[1;32m    674\u001b[0m         )\n\u001b[1;32m    675\u001b[0m \u001b[0;34m\u001b[0m\u001b[0m\n\u001b[0;32m--> 676\u001b[0;31m         \u001b[0;32mreturn\u001b[0m \u001b[0m_read\u001b[0m\u001b[0;34m(\u001b[0m\u001b[0mfilepath_or_buffer\u001b[0m\u001b[0;34m,\u001b[0m \u001b[0mkwds\u001b[0m\u001b[0;34m)\u001b[0m\u001b[0;34m\u001b[0m\u001b[0;34m\u001b[0m\u001b[0m\n\u001b[0m\u001b[1;32m    677\u001b[0m \u001b[0;34m\u001b[0m\u001b[0m\n\u001b[1;32m    678\u001b[0m     \u001b[0mparser_f\u001b[0m\u001b[0;34m.\u001b[0m\u001b[0m__name__\u001b[0m \u001b[0;34m=\u001b[0m \u001b[0mname\u001b[0m\u001b[0;34m\u001b[0m\u001b[0;34m\u001b[0m\u001b[0m\n",
      "\u001b[0;32m/usr/local/lib/python3.6/dist-packages/pandas/io/parsers.py\u001b[0m in \u001b[0;36m_read\u001b[0;34m(filepath_or_buffer, kwds)\u001b[0m\n\u001b[1;32m    446\u001b[0m \u001b[0;34m\u001b[0m\u001b[0m\n\u001b[1;32m    447\u001b[0m     \u001b[0;31m# Create the parser.\u001b[0m\u001b[0;34m\u001b[0m\u001b[0;34m\u001b[0m\u001b[0;34m\u001b[0m\u001b[0m\n\u001b[0;32m--> 448\u001b[0;31m     \u001b[0mparser\u001b[0m \u001b[0;34m=\u001b[0m \u001b[0mTextFileReader\u001b[0m\u001b[0;34m(\u001b[0m\u001b[0mfp_or_buf\u001b[0m\u001b[0;34m,\u001b[0m \u001b[0;34m**\u001b[0m\u001b[0mkwds\u001b[0m\u001b[0;34m)\u001b[0m\u001b[0;34m\u001b[0m\u001b[0;34m\u001b[0m\u001b[0m\n\u001b[0m\u001b[1;32m    449\u001b[0m \u001b[0;34m\u001b[0m\u001b[0m\n\u001b[1;32m    450\u001b[0m     \u001b[0;32mif\u001b[0m \u001b[0mchunksize\u001b[0m \u001b[0;32mor\u001b[0m \u001b[0miterator\u001b[0m\u001b[0;34m:\u001b[0m\u001b[0;34m\u001b[0m\u001b[0;34m\u001b[0m\u001b[0m\n",
      "\u001b[0;32m/usr/local/lib/python3.6/dist-packages/pandas/io/parsers.py\u001b[0m in \u001b[0;36m__init__\u001b[0;34m(self, f, engine, **kwds)\u001b[0m\n\u001b[1;32m    878\u001b[0m             \u001b[0mself\u001b[0m\u001b[0;34m.\u001b[0m\u001b[0moptions\u001b[0m\u001b[0;34m[\u001b[0m\u001b[0;34m\"has_index_names\"\u001b[0m\u001b[0;34m]\u001b[0m \u001b[0;34m=\u001b[0m \u001b[0mkwds\u001b[0m\u001b[0;34m[\u001b[0m\u001b[0;34m\"has_index_names\"\u001b[0m\u001b[0;34m]\u001b[0m\u001b[0;34m\u001b[0m\u001b[0;34m\u001b[0m\u001b[0m\n\u001b[1;32m    879\u001b[0m \u001b[0;34m\u001b[0m\u001b[0m\n\u001b[0;32m--> 880\u001b[0;31m         \u001b[0mself\u001b[0m\u001b[0;34m.\u001b[0m\u001b[0m_make_engine\u001b[0m\u001b[0;34m(\u001b[0m\u001b[0mself\u001b[0m\u001b[0;34m.\u001b[0m\u001b[0mengine\u001b[0m\u001b[0;34m)\u001b[0m\u001b[0;34m\u001b[0m\u001b[0;34m\u001b[0m\u001b[0m\n\u001b[0m\u001b[1;32m    881\u001b[0m \u001b[0;34m\u001b[0m\u001b[0m\n\u001b[1;32m    882\u001b[0m     \u001b[0;32mdef\u001b[0m \u001b[0mclose\u001b[0m\u001b[0;34m(\u001b[0m\u001b[0mself\u001b[0m\u001b[0;34m)\u001b[0m\u001b[0;34m:\u001b[0m\u001b[0;34m\u001b[0m\u001b[0;34m\u001b[0m\u001b[0m\n",
      "\u001b[0;32m/usr/local/lib/python3.6/dist-packages/pandas/io/parsers.py\u001b[0m in \u001b[0;36m_make_engine\u001b[0;34m(self, engine)\u001b[0m\n\u001b[1;32m   1112\u001b[0m     \u001b[0;32mdef\u001b[0m \u001b[0m_make_engine\u001b[0m\u001b[0;34m(\u001b[0m\u001b[0mself\u001b[0m\u001b[0;34m,\u001b[0m \u001b[0mengine\u001b[0m\u001b[0;34m=\u001b[0m\u001b[0;34m\"c\"\u001b[0m\u001b[0;34m)\u001b[0m\u001b[0;34m:\u001b[0m\u001b[0;34m\u001b[0m\u001b[0;34m\u001b[0m\u001b[0m\n\u001b[1;32m   1113\u001b[0m         \u001b[0;32mif\u001b[0m \u001b[0mengine\u001b[0m \u001b[0;34m==\u001b[0m \u001b[0;34m\"c\"\u001b[0m\u001b[0;34m:\u001b[0m\u001b[0;34m\u001b[0m\u001b[0;34m\u001b[0m\u001b[0m\n\u001b[0;32m-> 1114\u001b[0;31m             \u001b[0mself\u001b[0m\u001b[0;34m.\u001b[0m\u001b[0m_engine\u001b[0m \u001b[0;34m=\u001b[0m \u001b[0mCParserWrapper\u001b[0m\u001b[0;34m(\u001b[0m\u001b[0mself\u001b[0m\u001b[0;34m.\u001b[0m\u001b[0mf\u001b[0m\u001b[0;34m,\u001b[0m \u001b[0;34m**\u001b[0m\u001b[0mself\u001b[0m\u001b[0;34m.\u001b[0m\u001b[0moptions\u001b[0m\u001b[0;34m)\u001b[0m\u001b[0;34m\u001b[0m\u001b[0;34m\u001b[0m\u001b[0m\n\u001b[0m\u001b[1;32m   1115\u001b[0m         \u001b[0;32melse\u001b[0m\u001b[0;34m:\u001b[0m\u001b[0;34m\u001b[0m\u001b[0;34m\u001b[0m\u001b[0m\n\u001b[1;32m   1116\u001b[0m             \u001b[0;32mif\u001b[0m \u001b[0mengine\u001b[0m \u001b[0;34m==\u001b[0m \u001b[0;34m\"python\"\u001b[0m\u001b[0;34m:\u001b[0m\u001b[0;34m\u001b[0m\u001b[0;34m\u001b[0m\u001b[0m\n",
      "\u001b[0;32m/usr/local/lib/python3.6/dist-packages/pandas/io/parsers.py\u001b[0m in \u001b[0;36m__init__\u001b[0;34m(self, src, **kwds)\u001b[0m\n\u001b[1;32m   1889\u001b[0m         \u001b[0mkwds\u001b[0m\u001b[0;34m[\u001b[0m\u001b[0;34m\"usecols\"\u001b[0m\u001b[0;34m]\u001b[0m \u001b[0;34m=\u001b[0m \u001b[0mself\u001b[0m\u001b[0;34m.\u001b[0m\u001b[0musecols\u001b[0m\u001b[0;34m\u001b[0m\u001b[0;34m\u001b[0m\u001b[0m\n\u001b[1;32m   1890\u001b[0m \u001b[0;34m\u001b[0m\u001b[0m\n\u001b[0;32m-> 1891\u001b[0;31m         \u001b[0mself\u001b[0m\u001b[0;34m.\u001b[0m\u001b[0m_reader\u001b[0m \u001b[0;34m=\u001b[0m \u001b[0mparsers\u001b[0m\u001b[0;34m.\u001b[0m\u001b[0mTextReader\u001b[0m\u001b[0;34m(\u001b[0m\u001b[0msrc\u001b[0m\u001b[0;34m,\u001b[0m \u001b[0;34m**\u001b[0m\u001b[0mkwds\u001b[0m\u001b[0;34m)\u001b[0m\u001b[0;34m\u001b[0m\u001b[0;34m\u001b[0m\u001b[0m\n\u001b[0m\u001b[1;32m   1892\u001b[0m         \u001b[0mself\u001b[0m\u001b[0;34m.\u001b[0m\u001b[0munnamed_cols\u001b[0m \u001b[0;34m=\u001b[0m \u001b[0mself\u001b[0m\u001b[0;34m.\u001b[0m\u001b[0m_reader\u001b[0m\u001b[0;34m.\u001b[0m\u001b[0munnamed_cols\u001b[0m\u001b[0;34m\u001b[0m\u001b[0;34m\u001b[0m\u001b[0m\n\u001b[1;32m   1893\u001b[0m \u001b[0;34m\u001b[0m\u001b[0m\n",
      "\u001b[0;32mpandas/_libs/parsers.pyx\u001b[0m in \u001b[0;36mpandas._libs.parsers.TextReader.__cinit__\u001b[0;34m()\u001b[0m\n",
      "\u001b[0;32mpandas/_libs/parsers.pyx\u001b[0m in \u001b[0;36mpandas._libs.parsers.TextReader._setup_parser_source\u001b[0;34m()\u001b[0m\n",
      "\u001b[0;31mFileNotFoundError\u001b[0m: [Errno 2] File hybrid AND control AND powertrain AND filterdataset.csv does not exist: 'hybrid AND control AND powertrain AND filterdataset.csv'"
     ]
    }
   ],
   "source": [
    "df=pd.read_csv('hybrid AND control AND powertrain AND filterdataset.csv')\n",
    "df=df.dropna(axis=0)"
   ]
  },
  {
   "cell_type": "code",
   "execution_count": null,
   "metadata": {
    "id": "7HZLViNgTJ3K",
    "outputId": "a5fc2fb6-41cc-442e-b446-8c3bbdc9e873"
   },
   "outputs": [
    {
     "data": {
      "text/html": [
       "<div>\n",
       "<style scoped>\n",
       "    .dataframe tbody tr th:only-of-type {\n",
       "        vertical-align: middle;\n",
       "    }\n",
       "\n",
       "    .dataframe tbody tr th {\n",
       "        vertical-align: top;\n",
       "    }\n",
       "\n",
       "    .dataframe thead th {\n",
       "        text-align: right;\n",
       "    }\n",
       "</style>\n",
       "<table border=\"1\" class=\"dataframe\">\n",
       "  <thead>\n",
       "    <tr style=\"text-align: right;\">\n",
       "      <th></th>\n",
       "      <th>Unnamed: 0</th>\n",
       "      <th>@_fa</th>\n",
       "      <th>dc:identifier</th>\n",
       "      <th>dc:title</th>\n",
       "      <th>link</th>\n",
       "      <th>load-date</th>\n",
       "      <th>openaccess</th>\n",
       "      <th>pii</th>\n",
       "      <th>prism:coverDate</th>\n",
       "      <th>prism:doi</th>\n",
       "      <th>prism:publicationName</th>\n",
       "      <th>prism:url</th>\n",
       "      <th>Relevant</th>\n",
       "      <th>Abstract</th>\n",
       "    </tr>\n",
       "  </thead>\n",
       "  <tbody>\n",
       "    <tr>\n",
       "      <th>0</th>\n",
       "      <td>0</td>\n",
       "      <td>True</td>\n",
       "      <td>DOI:10.1016/j.energy.2020.118286</td>\n",
       "      <td>Comparison of four-wheel-drive hybrid powertra...</td>\n",
       "      <td>{'self': 'https://api.elsevier.com/content/art...</td>\n",
       "      <td>2020-07-23T00:00:00.000Z</td>\n",
       "      <td>False</td>\n",
       "      <td>S0360544220313931</td>\n",
       "      <td>2020-10-15</td>\n",
       "      <td>10.1016/j.energy.2020.118286</td>\n",
       "      <td>Energy</td>\n",
       "      <td>https://api.elsevier.com/content/article/pii/S...</td>\n",
       "      <td>2</td>\n",
       "      <td>\\n                  The stringent fuel economy...</td>\n",
       "    </tr>\n",
       "    <tr>\n",
       "      <th>1</th>\n",
       "      <td>1</td>\n",
       "      <td>True</td>\n",
       "      <td>DOI:10.1016/j.jclepro.2020.120711</td>\n",
       "      <td>Representation, generation, and optimization m...</td>\n",
       "      <td>{'self': 'https://api.elsevier.com/content/art...</td>\n",
       "      <td>2020-02-26T00:00:00.000Z</td>\n",
       "      <td>False</td>\n",
       "      <td>S0959652620307587</td>\n",
       "      <td>2020-05-20</td>\n",
       "      <td>10.1016/j.jclepro.2020.120711</td>\n",
       "      <td>Journal of Cleaner Production</td>\n",
       "      <td>https://api.elsevier.com/content/article/pii/S...</td>\n",
       "      <td>2</td>\n",
       "      <td>\\n                  Since the first commercial...</td>\n",
       "    </tr>\n",
       "    <tr>\n",
       "      <th>2</th>\n",
       "      <td>2</td>\n",
       "      <td>True</td>\n",
       "      <td>DOI:10.1016/j.apenergy.2020.114873</td>\n",
       "      <td>Optimal control of power-split hybrid electric...</td>\n",
       "      <td>{'self': 'https://api.elsevier.com/content/art...</td>\n",
       "      <td>2020-03-30T00:00:00.000Z</td>\n",
       "      <td>False</td>\n",
       "      <td>S0306261920303858</td>\n",
       "      <td>2020-05-15</td>\n",
       "      <td>10.1016/j.apenergy.2020.114873</td>\n",
       "      <td>Applied Energy</td>\n",
       "      <td>https://api.elsevier.com/content/article/pii/S...</td>\n",
       "      <td>3</td>\n",
       "      <td>\\n                  This paper presents a real...</td>\n",
       "    </tr>\n",
       "    <tr>\n",
       "      <th>3</th>\n",
       "      <td>3</td>\n",
       "      <td>True</td>\n",
       "      <td>DOI:10.1016/j.apenergy.2020.114553</td>\n",
       "      <td>A survey of powertrain configuration studies o...</td>\n",
       "      <td>{'self': 'https://api.elsevier.com/content/art...</td>\n",
       "      <td>2020-02-15T00:00:00.000Z</td>\n",
       "      <td>False</td>\n",
       "      <td>S0306261920300659</td>\n",
       "      <td>2020-03-15</td>\n",
       "      <td>10.1016/j.apenergy.2020.114553</td>\n",
       "      <td>Applied Energy</td>\n",
       "      <td>https://api.elsevier.com/content/article/pii/S...</td>\n",
       "      <td>2</td>\n",
       "      <td>\\n                  Global warming, air pollut...</td>\n",
       "    </tr>\n",
       "    <tr>\n",
       "      <th>4</th>\n",
       "      <td>4</td>\n",
       "      <td>True</td>\n",
       "      <td>DOI:10.1016/j.mechmachtheory.2019.103731</td>\n",
       "      <td>Synthesis and analysis method for powertrain c...</td>\n",
       "      <td>{'self': 'https://api.elsevier.com/content/art...</td>\n",
       "      <td>2019-12-20T00:00:00.000Z</td>\n",
       "      <td>False</td>\n",
       "      <td>S0094114X19323377</td>\n",
       "      <td>2020-04-30</td>\n",
       "      <td>10.1016/j.mechmachtheory.2019.103731</td>\n",
       "      <td>Mechanism and Machine Theory</td>\n",
       "      <td>https://api.elsevier.com/content/article/pii/S...</td>\n",
       "      <td>2</td>\n",
       "      <td>\\n                  Existing hybrid powertrain...</td>\n",
       "    </tr>\n",
       "  </tbody>\n",
       "</table>\n",
       "</div>"
      ],
      "text/plain": [
       "   Unnamed: 0  @_fa                             dc:identifier  \\\n",
       "0           0  True          DOI:10.1016/j.energy.2020.118286   \n",
       "1           1  True         DOI:10.1016/j.jclepro.2020.120711   \n",
       "2           2  True        DOI:10.1016/j.apenergy.2020.114873   \n",
       "3           3  True        DOI:10.1016/j.apenergy.2020.114553   \n",
       "4           4  True  DOI:10.1016/j.mechmachtheory.2019.103731   \n",
       "\n",
       "                                            dc:title  \\\n",
       "0  Comparison of four-wheel-drive hybrid powertra...   \n",
       "1  Representation, generation, and optimization m...   \n",
       "2  Optimal control of power-split hybrid electric...   \n",
       "3  A survey of powertrain configuration studies o...   \n",
       "4  Synthesis and analysis method for powertrain c...   \n",
       "\n",
       "                                                link  \\\n",
       "0  {'self': 'https://api.elsevier.com/content/art...   \n",
       "1  {'self': 'https://api.elsevier.com/content/art...   \n",
       "2  {'self': 'https://api.elsevier.com/content/art...   \n",
       "3  {'self': 'https://api.elsevier.com/content/art...   \n",
       "4  {'self': 'https://api.elsevier.com/content/art...   \n",
       "\n",
       "                  load-date  openaccess                pii prism:coverDate  \\\n",
       "0  2020-07-23T00:00:00.000Z       False  S0360544220313931      2020-10-15   \n",
       "1  2020-02-26T00:00:00.000Z       False  S0959652620307587      2020-05-20   \n",
       "2  2020-03-30T00:00:00.000Z       False  S0306261920303858      2020-05-15   \n",
       "3  2020-02-15T00:00:00.000Z       False  S0306261920300659      2020-03-15   \n",
       "4  2019-12-20T00:00:00.000Z       False  S0094114X19323377      2020-04-30   \n",
       "\n",
       "                              prism:doi          prism:publicationName  \\\n",
       "0          10.1016/j.energy.2020.118286                         Energy   \n",
       "1         10.1016/j.jclepro.2020.120711  Journal of Cleaner Production   \n",
       "2        10.1016/j.apenergy.2020.114873                 Applied Energy   \n",
       "3        10.1016/j.apenergy.2020.114553                 Applied Energy   \n",
       "4  10.1016/j.mechmachtheory.2019.103731   Mechanism and Machine Theory   \n",
       "\n",
       "                                           prism:url  Relevant  \\\n",
       "0  https://api.elsevier.com/content/article/pii/S...         2   \n",
       "1  https://api.elsevier.com/content/article/pii/S...         2   \n",
       "2  https://api.elsevier.com/content/article/pii/S...         3   \n",
       "3  https://api.elsevier.com/content/article/pii/S...         2   \n",
       "4  https://api.elsevier.com/content/article/pii/S...         2   \n",
       "\n",
       "                                            Abstract  \n",
       "0  \\n                  The stringent fuel economy...  \n",
       "1  \\n                  Since the first commercial...  \n",
       "2  \\n                  This paper presents a real...  \n",
       "3  \\n                  Global warming, air pollut...  \n",
       "4  \\n                  Existing hybrid powertrain...  "
      ]
     },
     "execution_count": 7,
     "metadata": {
      "tags": []
     },
     "output_type": "execute_result"
    }
   ],
   "source": [
    "df.head()"
   ]
  },
  {
   "cell_type": "code",
   "execution_count": null,
   "metadata": {
    "id": "2NLcpUdJTJ3M",
    "outputId": "abbeb71f-9cb6-4b56-f922-6e93141478ce"
   },
   "outputs": [
    {
     "data": {
      "text/plain": [
       "Index(['Unnamed: 0', '@_fa', 'dc:identifier', 'dc:title', 'link', 'load-date',\n",
       "       'openaccess', 'pii', 'prism:coverDate', 'prism:doi',\n",
       "       'prism:publicationName', 'prism:url', 'Relevant', 'Abstract'],\n",
       "      dtype='object')"
      ]
     },
     "execution_count": 8,
     "metadata": {
      "tags": []
     },
     "output_type": "execute_result"
    }
   ],
   "source": [
    "df.columns"
   ]
  },
  {
   "cell_type": "markdown",
   "metadata": {
    "id": "K2t-k7lfTJ3P"
   },
   "source": [
    "Data is a tabular data with journal name, link to the publication, date of publication, author and abstract"
   ]
  },
  {
   "cell_type": "code",
   "execution_count": 35,
   "metadata": {
    "id": "Z-vkIndvTJ3P"
   },
   "outputs": [],
   "source": [
    "# Define stemmer é lemmatizer\n",
    "porter=PorterStemmer()\n",
    "wordnet_lemmatizer = WordNetLemmatizer()"
   ]
  },
  {
   "cell_type": "code",
   "execution_count": 36,
   "metadata": {
    "id": "wVpBudyITJ3R"
   },
   "outputs": [],
   "source": [
    "def stemSentence(sentence,lem=False):\n",
    "    token_words=word_tokenize(sentence.lower())\n",
    "    stem_sentence=[]\n",
    "    lem_sentence=[]\n",
    "    for word in token_words:\n",
    "        if word not in stop_words:\n",
    "            if lem==False:\n",
    "                stem_sentence.append(porter.stem(word)+' ')\n",
    "            else:\n",
    "                stem_sentence.append(wordnet_lemmatizer.lemmatize(word)+' ')\n",
    "    return \"\".join(stem_sentence)"
   ]
  },
  {
   "cell_type": "markdown",
   "metadata": {
    "id": "zInmG6ZjTJ3T"
   },
   "source": [
    "![image.png](attachment:image.png)"
   ]
  },
  {
   "cell_type": "code",
   "execution_count": null,
   "metadata": {
    "id": "Rr5j7yyCTJ3T"
   },
   "outputs": [],
   "source": [
    "# Strip the 58 first blank characters and remove annoying characters coming from ScienceDirect: @, \\u202f, \\n\n",
    "#start=59 \n",
    "start=30# actualy it depends on the source\n",
    "\n",
    "df[\"Clean text\"]=df[\"Abstract\"].str.slice(start=59).replace('@','').replace('\\u202f','').replace('\\n','')\n",
    "# Prepare container for Lemmetized or Stemmed data\n",
    "df[\"Lem data\"]=\"-\""
   ]
  },
  {
   "cell_type": "code",
   "execution_count": null,
   "metadata": {
    "id": "JvToyR9fTJ3V",
    "outputId": "e61618d6-fc58-426c-de21-129438fb0e1c",
    "scrolled": true
   },
   "outputs": [
    {
     "name": "stdout",
     "output_type": "stream",
     "text": [
      "0\n",
      "100\n",
      "200\n",
      "300\n",
      "400\n",
      "500\n",
      "600\n",
      "700\n",
      "800\n",
      "900\n"
     ]
    }
   ],
   "source": [
    "# Apply Stemmer to the dataframe\n",
    "# save it under this name:\n",
    "filename='Hybrid PT Control.csv'\n",
    "for i in range(0,len(df)):\n",
    "    df[\"Lem data\"].iloc[i]=stemSentence(df['Clean text'].iloc[i],True)\n",
    "    if i%100==0:\n",
    "        df.to_csv(filename)\n",
    "        print(i)\n",
    "df.to_csv(filename)"
   ]
  },
  {
   "cell_type": "code",
   "execution_count": null,
   "metadata": {
    "id": "-T9JYFrOTJ3X"
   },
   "outputs": [],
   "source": [
    "df.to_csv(filename)"
   ]
  },
  {
   "cell_type": "code",
   "execution_count": null,
   "metadata": {
    "id": "jcJdUM2qTJ3Z",
    "outputId": "d56f442e-2195-4cfa-9f82-4e3c6163ba2e"
   },
   "outputs": [
    {
     "data": {
      "text/html": [
       "<div>\n",
       "<style scoped>\n",
       "    .dataframe tbody tr th:only-of-type {\n",
       "        vertical-align: middle;\n",
       "    }\n",
       "\n",
       "    .dataframe tbody tr th {\n",
       "        vertical-align: top;\n",
       "    }\n",
       "\n",
       "    .dataframe thead th {\n",
       "        text-align: right;\n",
       "    }\n",
       "</style>\n",
       "<table border=\"1\" class=\"dataframe\">\n",
       "  <thead>\n",
       "    <tr style=\"text-align: right;\">\n",
       "      <th></th>\n",
       "      <th>Unnamed: 0</th>\n",
       "      <th>@_fa</th>\n",
       "      <th>dc:identifier</th>\n",
       "      <th>dc:title</th>\n",
       "      <th>link</th>\n",
       "      <th>load-date</th>\n",
       "      <th>openaccess</th>\n",
       "      <th>pii</th>\n",
       "      <th>prism:coverDate</th>\n",
       "      <th>prism:doi</th>\n",
       "      <th>prism:publicationName</th>\n",
       "      <th>prism:url</th>\n",
       "      <th>Relevant</th>\n",
       "      <th>Abstract</th>\n",
       "      <th>Clean text</th>\n",
       "      <th>Lem data</th>\n",
       "    </tr>\n",
       "  </thead>\n",
       "  <tbody>\n",
       "    <tr>\n",
       "      <th>0</th>\n",
       "      <td>0</td>\n",
       "      <td>True</td>\n",
       "      <td>DOI:10.1016/j.ifacol.2019.12.624</td>\n",
       "      <td>PQ Theory-Based Control of Single-Stage V2G Th...</td>\n",
       "      <td>{'self': 'https://api.elsevier.com/content/art...</td>\n",
       "      <td>2020-01-15T00:00:00.000Z</td>\n",
       "      <td>False</td>\n",
       "      <td>S2405896319325674</td>\n",
       "      <td>2019-12-31</td>\n",
       "      <td>10.1016/j.ifacol.2019.12.624</td>\n",
       "      <td>IFAC-PapersOnLine</td>\n",
       "      <td>https://api.elsevier.com/content/article/pii/S...</td>\n",
       "      <td>1</td>\n",
       "      <td>\\n                  This work dealt with a mod...</td>\n",
       "      <td>theory-based control of a vehicle-to-grid (V2...</td>\n",
       "      <td>theory-based control vehicle-to-grid ( v2g ) t...</td>\n",
       "    </tr>\n",
       "    <tr>\n",
       "      <th>1</th>\n",
       "      <td>1</td>\n",
       "      <td>True</td>\n",
       "      <td>DOI:10.1016/j.apenergy.2019.114262</td>\n",
       "      <td>Two-stage stochastic sizing and packetized ene...</td>\n",
       "      <td>{'self': 'https://api.elsevier.com/content/art...</td>\n",
       "      <td>2019-12-11T00:00:00.000Z</td>\n",
       "      <td>False</td>\n",
       "      <td>S030626191931949X</td>\n",
       "      <td>2020-02-15</td>\n",
       "      <td>10.1016/j.apenergy.2019.114262</td>\n",
       "      <td>Applied Energy</td>\n",
       "      <td>https://api.elsevier.com/content/article/pii/S...</td>\n",
       "      <td>1</td>\n",
       "      <td>\\n                  The expected deployment of...</td>\n",
       "      <td>ric vehicles (BEVs) strongly depends on the de...</td>\n",
       "      <td>ric vehicle ( bevs ) strongly depends developm...</td>\n",
       "    </tr>\n",
       "    <tr>\n",
       "      <th>2</th>\n",
       "      <td>2</td>\n",
       "      <td>True</td>\n",
       "      <td>DOI:10.1016/j.ifacol.2019.12.738</td>\n",
       "      <td>BEV Remaining Range Estimation Based on Modern...</td>\n",
       "      <td>{'self': 'https://api.elsevier.com/content/art...</td>\n",
       "      <td>2020-01-15T00:00:00.000Z</td>\n",
       "      <td>False</td>\n",
       "      <td>S2405896319326874</td>\n",
       "      <td>2019-12-31</td>\n",
       "      <td>10.1016/j.ifacol.2019.12.738</td>\n",
       "      <td>IFAC-PapersOnLine</td>\n",
       "      <td>https://api.elsevier.com/content/article/pii/S...</td>\n",
       "      <td>1</td>\n",
       "      <td>\\n                  The aim of this paper is t...</td>\n",
       "      <td>nature of algorithms for calculation of the ra...</td>\n",
       "      <td>nature algorithm calculation range battery ele...</td>\n",
       "    </tr>\n",
       "    <tr>\n",
       "      <th>3</th>\n",
       "      <td>3</td>\n",
       "      <td>True</td>\n",
       "      <td>DOI:10.1016/j.apenergy.2018.04.073</td>\n",
       "      <td>Effects of charging battery electric vehicles ...</td>\n",
       "      <td>{'self': 'https://api.elsevier.com/content/art...</td>\n",
       "      <td>2018-05-11T00:00:00.000Z</td>\n",
       "      <td>False</td>\n",
       "      <td>S0306261918306330</td>\n",
       "      <td>2018-08-15</td>\n",
       "      <td>10.1016/j.apenergy.2018.04.073</td>\n",
       "      <td>Applied Energy</td>\n",
       "      <td>https://api.elsevier.com/content/article/pii/S...</td>\n",
       "      <td>2</td>\n",
       "      <td>\\n                  Integration of battery ele...</td>\n",
       "      <td>(BEV) as load could have an impact on the sta...</td>\n",
       "      <td>( bev ) load could impact stability local grid...</td>\n",
       "    </tr>\n",
       "    <tr>\n",
       "      <th>4</th>\n",
       "      <td>4</td>\n",
       "      <td>True</td>\n",
       "      <td>DOI:10.1016/j.trc.2019.12.021</td>\n",
       "      <td>Multi-day scenario analysis for battery electr...</td>\n",
       "      <td>{'self': 'https://api.elsevier.com/content/art...</td>\n",
       "      <td>2020-01-09T00:00:00.000Z</td>\n",
       "      <td>False</td>\n",
       "      <td>S0968090X18312117</td>\n",
       "      <td>2020-02-29</td>\n",
       "      <td>10.1016/j.trc.2019.12.021</td>\n",
       "      <td>Transportation Research Part C: Emerging Techn...</td>\n",
       "      <td>https://api.elsevier.com/content/article/pii/S...</td>\n",
       "      <td>1</td>\n",
       "      <td>\\n                  Multi-day activity-travel ...</td>\n",
       "      <td>create potential vehicle usage profiles that c...</td>\n",
       "      <td>create potential vehicle usage profile contain...</td>\n",
       "    </tr>\n",
       "  </tbody>\n",
       "</table>\n",
       "</div>"
      ],
      "text/plain": [
       "   Unnamed: 0  @_fa                       dc:identifier  \\\n",
       "0           0  True    DOI:10.1016/j.ifacol.2019.12.624   \n",
       "1           1  True  DOI:10.1016/j.apenergy.2019.114262   \n",
       "2           2  True    DOI:10.1016/j.ifacol.2019.12.738   \n",
       "3           3  True  DOI:10.1016/j.apenergy.2018.04.073   \n",
       "4           4  True       DOI:10.1016/j.trc.2019.12.021   \n",
       "\n",
       "                                            dc:title  \\\n",
       "0  PQ Theory-Based Control of Single-Stage V2G Th...   \n",
       "1  Two-stage stochastic sizing and packetized ene...   \n",
       "2  BEV Remaining Range Estimation Based on Modern...   \n",
       "3  Effects of charging battery electric vehicles ...   \n",
       "4  Multi-day scenario analysis for battery electr...   \n",
       "\n",
       "                                                link  \\\n",
       "0  {'self': 'https://api.elsevier.com/content/art...   \n",
       "1  {'self': 'https://api.elsevier.com/content/art...   \n",
       "2  {'self': 'https://api.elsevier.com/content/art...   \n",
       "3  {'self': 'https://api.elsevier.com/content/art...   \n",
       "4  {'self': 'https://api.elsevier.com/content/art...   \n",
       "\n",
       "                  load-date  openaccess                pii prism:coverDate  \\\n",
       "0  2020-01-15T00:00:00.000Z       False  S2405896319325674      2019-12-31   \n",
       "1  2019-12-11T00:00:00.000Z       False  S030626191931949X      2020-02-15   \n",
       "2  2020-01-15T00:00:00.000Z       False  S2405896319326874      2019-12-31   \n",
       "3  2018-05-11T00:00:00.000Z       False  S0306261918306330      2018-08-15   \n",
       "4  2020-01-09T00:00:00.000Z       False  S0968090X18312117      2020-02-29   \n",
       "\n",
       "                        prism:doi  \\\n",
       "0    10.1016/j.ifacol.2019.12.624   \n",
       "1  10.1016/j.apenergy.2019.114262   \n",
       "2    10.1016/j.ifacol.2019.12.738   \n",
       "3  10.1016/j.apenergy.2018.04.073   \n",
       "4       10.1016/j.trc.2019.12.021   \n",
       "\n",
       "                               prism:publicationName  \\\n",
       "0                                  IFAC-PapersOnLine   \n",
       "1                                     Applied Energy   \n",
       "2                                  IFAC-PapersOnLine   \n",
       "3                                     Applied Energy   \n",
       "4  Transportation Research Part C: Emerging Techn...   \n",
       "\n",
       "                                           prism:url  Relevant  \\\n",
       "0  https://api.elsevier.com/content/article/pii/S...         1   \n",
       "1  https://api.elsevier.com/content/article/pii/S...         1   \n",
       "2  https://api.elsevier.com/content/article/pii/S...         1   \n",
       "3  https://api.elsevier.com/content/article/pii/S...         2   \n",
       "4  https://api.elsevier.com/content/article/pii/S...         1   \n",
       "\n",
       "                                            Abstract  \\\n",
       "0  \\n                  This work dealt with a mod...   \n",
       "1  \\n                  The expected deployment of...   \n",
       "2  \\n                  The aim of this paper is t...   \n",
       "3  \\n                  Integration of battery ele...   \n",
       "4  \\n                  Multi-day activity-travel ...   \n",
       "\n",
       "                                          Clean text  \\\n",
       "0   theory-based control of a vehicle-to-grid (V2...   \n",
       "1  ric vehicles (BEVs) strongly depends on the de...   \n",
       "2  nature of algorithms for calculation of the ra...   \n",
       "3   (BEV) as load could have an impact on the sta...   \n",
       "4  create potential vehicle usage profiles that c...   \n",
       "\n",
       "                                            Lem data  \n",
       "0  theory-based control vehicle-to-grid ( v2g ) t...  \n",
       "1  ric vehicle ( bevs ) strongly depends developm...  \n",
       "2  nature algorithm calculation range battery ele...  \n",
       "3  ( bev ) load could impact stability local grid...  \n",
       "4  create potential vehicle usage profile contain...  "
      ]
     },
     "execution_count": 229,
     "metadata": {
      "tags": []
     },
     "output_type": "execute_result"
    }
   ],
   "source": [
    "df.head()"
   ]
  },
  {
   "cell_type": "code",
   "execution_count": 37,
   "metadata": {},
   "outputs": [
    {
     "ename": "LookupError",
     "evalue": "\n**********************************************************************\n  Resource \u001b[93mwordnet\u001b[0m not found.\n  Please use the NLTK Downloader to obtain the resource:\n\n  \u001b[31m>>> import nltk\n  >>> nltk.download('wordnet')\n  \u001b[0m\n  For more information see: https://www.nltk.org/data.html\n\n  Attempted to load \u001b[93mcorpora/wordnet\u001b[0m\n\n  Searched in:\n    - 'C:\\\\Users\\\\Thierry/nltk_data'\n    - 'C:\\\\Users\\\\Thierry\\\\Anaconda3\\\\envs\\\\tf\\\\nltk_data'\n    - 'C:\\\\Users\\\\Thierry\\\\Anaconda3\\\\envs\\\\tf\\\\share\\\\nltk_data'\n    - 'C:\\\\Users\\\\Thierry\\\\Anaconda3\\\\envs\\\\tf\\\\lib\\\\nltk_data'\n    - 'C:\\\\Users\\\\Thierry\\\\AppData\\\\Roaming\\\\nltk_data'\n    - 'C:\\\\nltk_data'\n    - 'D:\\\\nltk_data'\n    - 'E:\\\\nltk_data'\n**********************************************************************\n",
     "output_type": "error",
     "traceback": [
      "\u001b[1;31m---------------------------------------------------------------------------\u001b[0m",
      "\u001b[1;31mLookupError\u001b[0m                               Traceback (most recent call last)",
      "\u001b[1;32m~\\Anaconda3\\envs\\tf\\lib\\site-packages\\nltk\\corpus\\util.py\u001b[0m in \u001b[0;36m__load\u001b[1;34m(self)\u001b[0m\n\u001b[0;32m     82\u001b[0m                 \u001b[1;32mtry\u001b[0m\u001b[1;33m:\u001b[0m\u001b[1;33m\u001b[0m\u001b[1;33m\u001b[0m\u001b[0m\n\u001b[1;32m---> 83\u001b[1;33m                     \u001b[0mroot\u001b[0m \u001b[1;33m=\u001b[0m \u001b[0mnltk\u001b[0m\u001b[1;33m.\u001b[0m\u001b[0mdata\u001b[0m\u001b[1;33m.\u001b[0m\u001b[0mfind\u001b[0m\u001b[1;33m(\u001b[0m\u001b[1;34m\"{}/{}\"\u001b[0m\u001b[1;33m.\u001b[0m\u001b[0mformat\u001b[0m\u001b[1;33m(\u001b[0m\u001b[0mself\u001b[0m\u001b[1;33m.\u001b[0m\u001b[0msubdir\u001b[0m\u001b[1;33m,\u001b[0m \u001b[0mzip_name\u001b[0m\u001b[1;33m)\u001b[0m\u001b[1;33m)\u001b[0m\u001b[1;33m\u001b[0m\u001b[1;33m\u001b[0m\u001b[0m\n\u001b[0m\u001b[0;32m     84\u001b[0m                 \u001b[1;32mexcept\u001b[0m \u001b[0mLookupError\u001b[0m\u001b[1;33m:\u001b[0m\u001b[1;33m\u001b[0m\u001b[1;33m\u001b[0m\u001b[0m\n",
      "\u001b[1;32m~\\Anaconda3\\envs\\tf\\lib\\site-packages\\nltk\\data.py\u001b[0m in \u001b[0;36mfind\u001b[1;34m(resource_name, paths)\u001b[0m\n\u001b[0;32m    584\u001b[0m     \u001b[0mresource_not_found\u001b[0m \u001b[1;33m=\u001b[0m \u001b[1;34m\"\\n%s\\n%s\\n%s\\n\"\u001b[0m \u001b[1;33m%\u001b[0m \u001b[1;33m(\u001b[0m\u001b[0msep\u001b[0m\u001b[1;33m,\u001b[0m \u001b[0mmsg\u001b[0m\u001b[1;33m,\u001b[0m \u001b[0msep\u001b[0m\u001b[1;33m)\u001b[0m\u001b[1;33m\u001b[0m\u001b[1;33m\u001b[0m\u001b[0m\n\u001b[1;32m--> 585\u001b[1;33m     \u001b[1;32mraise\u001b[0m \u001b[0mLookupError\u001b[0m\u001b[1;33m(\u001b[0m\u001b[0mresource_not_found\u001b[0m\u001b[1;33m)\u001b[0m\u001b[1;33m\u001b[0m\u001b[1;33m\u001b[0m\u001b[0m\n\u001b[0m\u001b[0;32m    586\u001b[0m \u001b[1;33m\u001b[0m\u001b[0m\n",
      "\u001b[1;31mLookupError\u001b[0m: \n**********************************************************************\n  Resource \u001b[93mwordnet\u001b[0m not found.\n  Please use the NLTK Downloader to obtain the resource:\n\n  \u001b[31m>>> import nltk\n  >>> nltk.download('wordnet')\n  \u001b[0m\n  For more information see: https://www.nltk.org/data.html\n\n  Attempted to load \u001b[93mcorpora/wordnet.zip/wordnet/\u001b[0m\n\n  Searched in:\n    - 'C:\\\\Users\\\\Thierry/nltk_data'\n    - 'C:\\\\Users\\\\Thierry\\\\Anaconda3\\\\envs\\\\tf\\\\nltk_data'\n    - 'C:\\\\Users\\\\Thierry\\\\Anaconda3\\\\envs\\\\tf\\\\share\\\\nltk_data'\n    - 'C:\\\\Users\\\\Thierry\\\\Anaconda3\\\\envs\\\\tf\\\\lib\\\\nltk_data'\n    - 'C:\\\\Users\\\\Thierry\\\\AppData\\\\Roaming\\\\nltk_data'\n    - 'C:\\\\nltk_data'\n    - 'D:\\\\nltk_data'\n    - 'E:\\\\nltk_data'\n**********************************************************************\n",
      "\nDuring handling of the above exception, another exception occurred:\n",
      "\u001b[1;31mLookupError\u001b[0m                               Traceback (most recent call last)",
      "\u001b[1;32m<ipython-input-37-87e05a1fa7d3>\u001b[0m in \u001b[0;36m<module>\u001b[1;34m\u001b[0m\n\u001b[1;32m----> 1\u001b[1;33m \u001b[0mstemSentence\u001b[0m\u001b[1;33m(\u001b[0m\u001b[0mtext\u001b[0m\u001b[1;33m,\u001b[0m\u001b[1;32mTrue\u001b[0m\u001b[1;33m)\u001b[0m\u001b[1;33m\u001b[0m\u001b[1;33m\u001b[0m\u001b[0m\n\u001b[0m",
      "\u001b[1;32m<ipython-input-36-d9775261c7ae>\u001b[0m in \u001b[0;36mstemSentence\u001b[1;34m(sentence, lem)\u001b[0m\n\u001b[0;32m      8\u001b[0m                 \u001b[0mstem_sentence\u001b[0m\u001b[1;33m.\u001b[0m\u001b[0mappend\u001b[0m\u001b[1;33m(\u001b[0m\u001b[0mporter\u001b[0m\u001b[1;33m.\u001b[0m\u001b[0mstem\u001b[0m\u001b[1;33m(\u001b[0m\u001b[0mword\u001b[0m\u001b[1;33m)\u001b[0m\u001b[1;33m+\u001b[0m\u001b[1;34m' '\u001b[0m\u001b[1;33m)\u001b[0m\u001b[1;33m\u001b[0m\u001b[1;33m\u001b[0m\u001b[0m\n\u001b[0;32m      9\u001b[0m             \u001b[1;32melse\u001b[0m\u001b[1;33m:\u001b[0m\u001b[1;33m\u001b[0m\u001b[1;33m\u001b[0m\u001b[0m\n\u001b[1;32m---> 10\u001b[1;33m                 \u001b[0mstem_sentence\u001b[0m\u001b[1;33m.\u001b[0m\u001b[0mappend\u001b[0m\u001b[1;33m(\u001b[0m\u001b[0mwordnet_lemmatizer\u001b[0m\u001b[1;33m.\u001b[0m\u001b[0mlemmatize\u001b[0m\u001b[1;33m(\u001b[0m\u001b[0mword\u001b[0m\u001b[1;33m)\u001b[0m\u001b[1;33m+\u001b[0m\u001b[1;34m' '\u001b[0m\u001b[1;33m)\u001b[0m\u001b[1;33m\u001b[0m\u001b[1;33m\u001b[0m\u001b[0m\n\u001b[0m\u001b[0;32m     11\u001b[0m     \u001b[1;32mreturn\u001b[0m \u001b[1;34m\"\"\u001b[0m\u001b[1;33m.\u001b[0m\u001b[0mjoin\u001b[0m\u001b[1;33m(\u001b[0m\u001b[0mstem_sentence\u001b[0m\u001b[1;33m)\u001b[0m\u001b[1;33m\u001b[0m\u001b[1;33m\u001b[0m\u001b[0m\n",
      "\u001b[1;32m~\\Anaconda3\\envs\\tf\\lib\\site-packages\\nltk\\stem\\wordnet.py\u001b[0m in \u001b[0;36mlemmatize\u001b[1;34m(self, word, pos)\u001b[0m\n\u001b[0;32m     36\u001b[0m \u001b[1;33m\u001b[0m\u001b[0m\n\u001b[0;32m     37\u001b[0m     \u001b[1;32mdef\u001b[0m \u001b[0mlemmatize\u001b[0m\u001b[1;33m(\u001b[0m\u001b[0mself\u001b[0m\u001b[1;33m,\u001b[0m \u001b[0mword\u001b[0m\u001b[1;33m,\u001b[0m \u001b[0mpos\u001b[0m\u001b[1;33m=\u001b[0m\u001b[0mNOUN\u001b[0m\u001b[1;33m)\u001b[0m\u001b[1;33m:\u001b[0m\u001b[1;33m\u001b[0m\u001b[1;33m\u001b[0m\u001b[0m\n\u001b[1;32m---> 38\u001b[1;33m         \u001b[0mlemmas\u001b[0m \u001b[1;33m=\u001b[0m \u001b[0mwordnet\u001b[0m\u001b[1;33m.\u001b[0m\u001b[0m_morphy\u001b[0m\u001b[1;33m(\u001b[0m\u001b[0mword\u001b[0m\u001b[1;33m,\u001b[0m \u001b[0mpos\u001b[0m\u001b[1;33m)\u001b[0m\u001b[1;33m\u001b[0m\u001b[1;33m\u001b[0m\u001b[0m\n\u001b[0m\u001b[0;32m     39\u001b[0m         \u001b[1;32mreturn\u001b[0m \u001b[0mmin\u001b[0m\u001b[1;33m(\u001b[0m\u001b[0mlemmas\u001b[0m\u001b[1;33m,\u001b[0m \u001b[0mkey\u001b[0m\u001b[1;33m=\u001b[0m\u001b[0mlen\u001b[0m\u001b[1;33m)\u001b[0m \u001b[1;32mif\u001b[0m \u001b[0mlemmas\u001b[0m \u001b[1;32melse\u001b[0m \u001b[0mword\u001b[0m\u001b[1;33m\u001b[0m\u001b[1;33m\u001b[0m\u001b[0m\n\u001b[0;32m     40\u001b[0m \u001b[1;33m\u001b[0m\u001b[0m\n",
      "\u001b[1;32m~\\Anaconda3\\envs\\tf\\lib\\site-packages\\nltk\\corpus\\util.py\u001b[0m in \u001b[0;36m__getattr__\u001b[1;34m(self, attr)\u001b[0m\n\u001b[0;32m    118\u001b[0m             \u001b[1;32mraise\u001b[0m \u001b[0mAttributeError\u001b[0m\u001b[1;33m(\u001b[0m\u001b[1;34m\"LazyCorpusLoader object has no attribute '__bases__'\"\u001b[0m\u001b[1;33m)\u001b[0m\u001b[1;33m\u001b[0m\u001b[1;33m\u001b[0m\u001b[0m\n\u001b[0;32m    119\u001b[0m \u001b[1;33m\u001b[0m\u001b[0m\n\u001b[1;32m--> 120\u001b[1;33m         \u001b[0mself\u001b[0m\u001b[1;33m.\u001b[0m\u001b[0m__load\u001b[0m\u001b[1;33m(\u001b[0m\u001b[1;33m)\u001b[0m\u001b[1;33m\u001b[0m\u001b[1;33m\u001b[0m\u001b[0m\n\u001b[0m\u001b[0;32m    121\u001b[0m         \u001b[1;31m# This looks circular, but its not, since __load() changes our\u001b[0m\u001b[1;33m\u001b[0m\u001b[1;33m\u001b[0m\u001b[1;33m\u001b[0m\u001b[0m\n\u001b[0;32m    122\u001b[0m         \u001b[1;31m# __class__ to something new:\u001b[0m\u001b[1;33m\u001b[0m\u001b[1;33m\u001b[0m\u001b[1;33m\u001b[0m\u001b[0m\n",
      "\u001b[1;32m~\\Anaconda3\\envs\\tf\\lib\\site-packages\\nltk\\corpus\\util.py\u001b[0m in \u001b[0;36m__load\u001b[1;34m(self)\u001b[0m\n\u001b[0;32m     83\u001b[0m                     \u001b[0mroot\u001b[0m \u001b[1;33m=\u001b[0m \u001b[0mnltk\u001b[0m\u001b[1;33m.\u001b[0m\u001b[0mdata\u001b[0m\u001b[1;33m.\u001b[0m\u001b[0mfind\u001b[0m\u001b[1;33m(\u001b[0m\u001b[1;34m\"{}/{}\"\u001b[0m\u001b[1;33m.\u001b[0m\u001b[0mformat\u001b[0m\u001b[1;33m(\u001b[0m\u001b[0mself\u001b[0m\u001b[1;33m.\u001b[0m\u001b[0msubdir\u001b[0m\u001b[1;33m,\u001b[0m \u001b[0mzip_name\u001b[0m\u001b[1;33m)\u001b[0m\u001b[1;33m)\u001b[0m\u001b[1;33m\u001b[0m\u001b[1;33m\u001b[0m\u001b[0m\n\u001b[0;32m     84\u001b[0m                 \u001b[1;32mexcept\u001b[0m \u001b[0mLookupError\u001b[0m\u001b[1;33m:\u001b[0m\u001b[1;33m\u001b[0m\u001b[1;33m\u001b[0m\u001b[0m\n\u001b[1;32m---> 85\u001b[1;33m                     \u001b[1;32mraise\u001b[0m \u001b[0me\u001b[0m\u001b[1;33m\u001b[0m\u001b[1;33m\u001b[0m\u001b[0m\n\u001b[0m\u001b[0;32m     86\u001b[0m \u001b[1;33m\u001b[0m\u001b[0m\n\u001b[0;32m     87\u001b[0m         \u001b[1;31m# Load the corpus.\u001b[0m\u001b[1;33m\u001b[0m\u001b[1;33m\u001b[0m\u001b[1;33m\u001b[0m\u001b[0m\n",
      "\u001b[1;32m~\\Anaconda3\\envs\\tf\\lib\\site-packages\\nltk\\corpus\\util.py\u001b[0m in \u001b[0;36m__load\u001b[1;34m(self)\u001b[0m\n\u001b[0;32m     78\u001b[0m         \u001b[1;32melse\u001b[0m\u001b[1;33m:\u001b[0m\u001b[1;33m\u001b[0m\u001b[1;33m\u001b[0m\u001b[0m\n\u001b[0;32m     79\u001b[0m             \u001b[1;32mtry\u001b[0m\u001b[1;33m:\u001b[0m\u001b[1;33m\u001b[0m\u001b[1;33m\u001b[0m\u001b[0m\n\u001b[1;32m---> 80\u001b[1;33m                 \u001b[0mroot\u001b[0m \u001b[1;33m=\u001b[0m \u001b[0mnltk\u001b[0m\u001b[1;33m.\u001b[0m\u001b[0mdata\u001b[0m\u001b[1;33m.\u001b[0m\u001b[0mfind\u001b[0m\u001b[1;33m(\u001b[0m\u001b[1;34m\"{}/{}\"\u001b[0m\u001b[1;33m.\u001b[0m\u001b[0mformat\u001b[0m\u001b[1;33m(\u001b[0m\u001b[0mself\u001b[0m\u001b[1;33m.\u001b[0m\u001b[0msubdir\u001b[0m\u001b[1;33m,\u001b[0m \u001b[0mself\u001b[0m\u001b[1;33m.\u001b[0m\u001b[0m__name\u001b[0m\u001b[1;33m)\u001b[0m\u001b[1;33m)\u001b[0m\u001b[1;33m\u001b[0m\u001b[1;33m\u001b[0m\u001b[0m\n\u001b[0m\u001b[0;32m     81\u001b[0m             \u001b[1;32mexcept\u001b[0m \u001b[0mLookupError\u001b[0m \u001b[1;32mas\u001b[0m \u001b[0me\u001b[0m\u001b[1;33m:\u001b[0m\u001b[1;33m\u001b[0m\u001b[1;33m\u001b[0m\u001b[0m\n\u001b[0;32m     82\u001b[0m                 \u001b[1;32mtry\u001b[0m\u001b[1;33m:\u001b[0m\u001b[1;33m\u001b[0m\u001b[1;33m\u001b[0m\u001b[0m\n",
      "\u001b[1;32m~\\Anaconda3\\envs\\tf\\lib\\site-packages\\nltk\\data.py\u001b[0m in \u001b[0;36mfind\u001b[1;34m(resource_name, paths)\u001b[0m\n\u001b[0;32m    583\u001b[0m     \u001b[0msep\u001b[0m \u001b[1;33m=\u001b[0m \u001b[1;34m\"*\"\u001b[0m \u001b[1;33m*\u001b[0m \u001b[1;36m70\u001b[0m\u001b[1;33m\u001b[0m\u001b[1;33m\u001b[0m\u001b[0m\n\u001b[0;32m    584\u001b[0m     \u001b[0mresource_not_found\u001b[0m \u001b[1;33m=\u001b[0m \u001b[1;34m\"\\n%s\\n%s\\n%s\\n\"\u001b[0m \u001b[1;33m%\u001b[0m \u001b[1;33m(\u001b[0m\u001b[0msep\u001b[0m\u001b[1;33m,\u001b[0m \u001b[0mmsg\u001b[0m\u001b[1;33m,\u001b[0m \u001b[0msep\u001b[0m\u001b[1;33m)\u001b[0m\u001b[1;33m\u001b[0m\u001b[1;33m\u001b[0m\u001b[0m\n\u001b[1;32m--> 585\u001b[1;33m     \u001b[1;32mraise\u001b[0m \u001b[0mLookupError\u001b[0m\u001b[1;33m(\u001b[0m\u001b[0mresource_not_found\u001b[0m\u001b[1;33m)\u001b[0m\u001b[1;33m\u001b[0m\u001b[1;33m\u001b[0m\u001b[0m\n\u001b[0m\u001b[0;32m    586\u001b[0m \u001b[1;33m\u001b[0m\u001b[0m\n\u001b[0;32m    587\u001b[0m \u001b[1;33m\u001b[0m\u001b[0m\n",
      "\u001b[1;31mLookupError\u001b[0m: \n**********************************************************************\n  Resource \u001b[93mwordnet\u001b[0m not found.\n  Please use the NLTK Downloader to obtain the resource:\n\n  \u001b[31m>>> import nltk\n  >>> nltk.download('wordnet')\n  \u001b[0m\n  For more information see: https://www.nltk.org/data.html\n\n  Attempted to load \u001b[93mcorpora/wordnet\u001b[0m\n\n  Searched in:\n    - 'C:\\\\Users\\\\Thierry/nltk_data'\n    - 'C:\\\\Users\\\\Thierry\\\\Anaconda3\\\\envs\\\\tf\\\\nltk_data'\n    - 'C:\\\\Users\\\\Thierry\\\\Anaconda3\\\\envs\\\\tf\\\\share\\\\nltk_data'\n    - 'C:\\\\Users\\\\Thierry\\\\Anaconda3\\\\envs\\\\tf\\\\lib\\\\nltk_data'\n    - 'C:\\\\Users\\\\Thierry\\\\AppData\\\\Roaming\\\\nltk_data'\n    - 'C:\\\\nltk_data'\n    - 'D:\\\\nltk_data'\n    - 'E:\\\\nltk_data'\n**********************************************************************\n"
     ]
    }
   ],
   "source": [
    "stemSentence(text,True)"
   ]
  },
  {
   "cell_type": "code",
   "execution_count": null,
   "metadata": {},
   "outputs": [
    {
     "name": "stdout",
     "output_type": "stream",
     "text": [
      "showing info https://raw.githubusercontent.com/nltk/nltk_data/gh-pages/index.xml\n"
     ]
    }
   ],
   "source": [
    "nltk.download()"
   ]
  },
  {
   "cell_type": "code",
   "execution_count": null,
   "metadata": {},
   "outputs": [],
   "source": []
  }
 ],
 "metadata": {
  "colab": {
   "collapsed_sections": [],
   "include_colab_link": true,
   "name": "ScienceDirectSearch - 2-Data preprocessing.ipynb",
   "provenance": []
  },
  "kernelspec": {
   "display_name": "Python 3",
   "language": "python",
   "name": "python3"
  },
  "language_info": {
   "codemirror_mode": {
    "name": "ipython",
    "version": 3
   },
   "file_extension": ".py",
   "mimetype": "text/x-python",
   "name": "python",
   "nbconvert_exporter": "python",
   "pygments_lexer": "ipython3",
   "version": "3.7.7"
  }
 },
 "nbformat": 4,
 "nbformat_minor": 1
}
